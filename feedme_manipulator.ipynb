{
 "cells": [
  {
   "cell_type": "code",
   "execution_count": 1,
   "metadata": {},
   "outputs": [],
   "source": [
    "import os"
   ]
  },
  {
   "cell_type": "code",
   "execution_count": 3,
   "metadata": {},
   "outputs": [],
   "source": [
    "class PyGalfit:\n",
    "    def __init__(self):\n",
    "        self.base = {\n",
    "            \"A\": {\"value\": \"\", \"comment\": \"Input data image (FITS file)\"},\n",
    "            \"A1\": {\"value\": \"g, r, i\", \"comment\": \"Nick names (band labels) \"},\n",
    "            \"A2\": {\"value\": \"4770, 6231, 7625\", \"comment\": \"Effective wavelenghts\"}, \n",
    "            \"B\": {\"value\": \"4770, 6231, 7625\", \"comment\": \"Output data image block\"}, \n",
    "            \"C\": {\"value\": \"\", \"comment\": \"Sigma image name (made from data if blank or 'none')\"},\n",
    "            \"D\": {\"value\": \"\", \"comment\": \"Input PSF image and (optional) diffusion kernel\"}, \n",
    "            \"E\": {\"value\": \"1\", \"comment\": \"PSF fine sampling factor relative to data \"}, \n",
    "            \"F\": {\"value\": \"none\", \"comment\": \"Bad pixel mask (FITS image or ASCII coord list)\"}, \n",
    "            \"G\": {\"value\": \"none\", \"comment\": \"File with parameter constraints (ASCII file) \"},\n",
    "            \"H\": {\"value\": \"1    200  1  200\", \"comment\": \"Image region to fit (xmin xmax ymin ymax)\"},\n",
    "            \"I\": {\"value\": \"200  200\", \"comment\": \"Size of the convolution box (x y)\"},\n",
    "            \"J\": {\"value\": \"25.11,24.80,24.36\", \"comment\": \"Magnitude photometric zeropoint\"},\n",
    "            \"K\": {\"value\": \"0.55  0.55\", \"comment\": \"Plate scale (dx dy)   [arcsec per pixel]\"},\n",
    "            \"O\": {\"value\": \"regular\", \"comment\": \"Display type (regular, curses, both)\"}, \n",
    "            \"P\": {\"value\": \"0\", \"comment\": \"Choose: 0=optimize, 1=model, 2=imgblock, 3=subcomps\"}, \n",
    "            \"U\": {\"value\": \"0\", \"comment\": \"\"}\n",
    "        }\n",
    "\n",
    "    def set_base(self, item, value):\n",
    "        if item in self.base:\n",
    "            self.base[item][\"value\"] = value\n",
    "        else:\n",
    "            raise KeyError(\"Parameter not found in galfit feedme base config.\")\n",
    "    \n",
    "\n",
    "    def write_feedme(self):\n",
    "        pass\n",
    "\n",
    "\n",
    "    \n",
    "\n",
    "    "
   ]
  },
  {
   "cell_type": "code",
   "execution_count": null,
   "metadata": {},
   "outputs": [],
   "source": [
    "\"\"\"\n",
    "\n",
    "A) data/test_g.fits,data/test_r.fits,data/test_i.fits # Input data image (FITS file)\n",
    "A1) g,r,i\t\t\t       #nick names (band labels) \n",
    "A2) 4770,6231,7625    # effective wavelenghts\n",
    "B) outputs/data/test_ss.fits       # Output data image block\n",
    "C) none  # Sigma image name (made from data if blank or \"none\") \n",
    "D) psf_data/test_g.fits,psf_data/test_r.fits,psf_data/test_i.fits # Input PSF image and (optional) diffusion kernel\n",
    "E) 1                   # PSF fine sampling factor relative to data \n",
    "F) none                # Bad pixel mask (FITS image or ASCII coord list) \n",
    "G) none                # File with parameter constraints (ASCII file) \n",
    "H) 1    200  1  200  # Image region to fit (xmin xmax ymin ymax)\n",
    "I) 200  200            # Size of the convolution box (x y)\n",
    "J) 25.11,24.80,24.36   # Magnitude photometric zeropoint\n",
    "K) 0.55  0.55        # Plate scale (dx dy)   [arcsec per pixel]\n",
    "O) regular             # Display type (regular, curses, both)\n",
    "P) 0                   # Choose: 0=optimize, 1=model, 2=imgblock, 3=subcomps\n",
    "U) 0\n",
    "\n",
    "\"\"\""
   ]
  },
  {
   "cell_type": "markdown",
   "metadata": {},
   "source": []
  }
 ],
 "metadata": {
  "kernelspec": {
   "display_name": "base",
   "language": "python",
   "name": "python3"
  },
  "language_info": {
   "codemirror_mode": {
    "name": "ipython",
    "version": 3
   },
   "file_extension": ".py",
   "mimetype": "text/x-python",
   "name": "python",
   "nbconvert_exporter": "python",
   "pygments_lexer": "ipython3",
   "version": "3.9.12"
  },
  "orig_nbformat": 4,
  "vscode": {
   "interpreter": {
    "hash": "e333ff4aa18f9a0fa07511eb65a6239e0d8f0b6236173c323db3f36e6a940470"
   }
  }
 },
 "nbformat": 4,
 "nbformat_minor": 2
}
