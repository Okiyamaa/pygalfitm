{
 "cells": [
  {
   "cell_type": "code",
   "execution_count": 1,
   "metadata": {},
   "outputs": [],
   "source": [
    "import os"
   ]
  },
  {
   "cell_type": "code",
   "execution_count": 101,
   "metadata": {},
   "outputs": [],
   "source": [
    "class PyGalfitm:\n",
    "    def __init__(self):\n",
    "        self.feedme_path = \"galfit.feedme\"\n",
    "\n",
    "        self.base = {\n",
    "            \"A\": {\"value\": \"\", \"comment\": \"Input data image (FITS file)\"},\n",
    "            \"A1\": {\"value\": \"g, r, i\", \"comment\": \"Nick names (band labels) \"},\n",
    "            \"A2\": {\"value\": \"4770, 6231, 7625\", \"comment\": \"Effective wavelenghts\"}, \n",
    "            \"B\": {\"value\": \"4770, 6231, 7625\", \"comment\": \"Output data image block\"}, \n",
    "            \"C\": {\"value\": \"\", \"comment\": \"Sigma image name (made from data if blank or 'none')\"},\n",
    "            \"D\": {\"value\": \"\", \"comment\": \"Input PSF image and (optional) diffusion kernel\"}, \n",
    "            \"E\": {\"value\": \"1\", \"comment\": \"PSF fine sampling factor relative to data \"}, \n",
    "            \"F\": {\"value\": \"none\", \"comment\": \"Bad pixel mask (FITS image or ASCII coord list)\"}, \n",
    "            \"G\": {\"value\": \"none\", \"comment\": \"File with parameter constraints (ASCII file) \"},\n",
    "            \"H\": {\"value\": \"1    200  1  200\", \"comment\": \"Image region to fit (xmin xmax ymin ymax)\"},\n",
    "            \"I\": {\"value\": \"200  200\", \"comment\": \"Size of the convolution box (x y)\"},\n",
    "            \"J\": {\"value\": \"25.11,24.80,24.36\", \"comment\": \"Magnitude photometric zeropoint\"},\n",
    "            \"K\": {\"value\": \"0.55  0.55\", \"comment\": \"Plate scale (dx dy)   [arcsec per pixel]\"},\n",
    "            \"O\": {\"value\": \"regular\", \"comment\": \"Display type (regular, curses, both)\"}, \n",
    "            \"P\": {\"value\": \"0\", \"comment\": \"Choose: 0=optimize, 1=model, 2=imgblock, 3=subcomps\"}, \n",
    "            \"U\": {\"value\": \"0\", \"comment\": \"\"}\n",
    "        }\n",
    "\n",
    "        self.components_config = {\n",
    "            \"sky\" : {\n",
    "                \"1\": {\"col1\": \"BKGG,BKGR,BKGI\", \"col2\": \"0\", \"col3\": \"band\", \"comment\": \"Sky background at center of fitting region [ADUs]\"},\n",
    "                \"2\": {\"col1\": \"0,0,0\", \"col2\": \"0\", \"col3\": \"band\", \"comment\": \"dsky/dx (sky gradient in x) [ADUs/pix]\"},\n",
    "                \"3\": {\"col1\": \"0,0,0\", \"col2\": \"0\", \"col3\": \"band\", \"comment\": \"dsky/dy (sky gradient in y) [ADUs/pix]\"},\n",
    "                \"Z\": {\"col1\": \"0\", \"col2\": \"\", \"col3\": \"\", \"comment\": \"Skip this model in output image? (yes=1, no=0)\"}\n",
    "            },\n",
    "            \"sersic\" : {\n",
    "                \"1\":  {\"col1\": \"200.0,200.0,200.0\", \"col2\": \"1\", \"col3\": \"band\", \"comment\": \"Position x [pixel]\"},\n",
    "                \"2\":  {\"col1\": \"200.0,200.0,200.0\", \"col2\": \"1\", \"col3\": \"band\", \"comment\": \"Position y [pixel]\"},\n",
    "                \"3\":  {\"col1\": \"23.03,22.30,22.22\", \"col2\": \"3\", \"col3\": \"band\", \"comment\": \"Integrated magnitude\"},\n",
    "                \"4\":  {\"col1\": \"10,10,10\", \"col2\": \"2\", \"col3\": \"band\", \"comment\": \"R_e (effective radius) [pix]\"},\n",
    "                \"5\":  {\"col1\": \"1.5,1.5,1.5\", \"col2\": \"2\", \"col3\": \"band\", \"comment\": \"Sersic index n (de Vaucouleurs n=4)\"},\n",
    "                \"9\":  {\"col1\": \"0.5,0.5,0.5\", \"col2\": \"1\", \"col3\": \"band\", \"comment\": \"Axis ratio (b/a)\"},\n",
    "                \"10\": {\"col1\": \"0,0,0\", \"col2\": \"1\", \"col3\": \"band\", \"comment\": \"Position angle (PA) [deg: Up=0, Left=90]\"},\n",
    "                \"Z\":  {\"col1\": \"0\", \"col2\": \"\", \"col3\": \"\", \"comment\": \"Skip this model in output image? (yes=1, no=0)\"}\n",
    "            },\n",
    "            \"expdisk\" : {\n",
    "                \"1\":  {\"col1\": \"300\", \"col2\": \"1\", \"col3\": \"band\", \"comment\": \"Position x [pixel]\"},\n",
    "                \"2\":  {\"col1\": \"357.4\", \"col2\": \"1\", \"col3\": \"band\", \"comment\": \"Position y [pixel]\"},\n",
    "                \"3\":  {\"col1\": \"23.03,22.30,22.22\", \"col2\": \"3\", \"col3\": \"band\", \"comment\": \"Integrated magnitude\"},\n",
    "                \"4\":  {\"col1\": \"10,10,10\", \"col2\": \"2\", \"col3\": \"band\", \"comment\": \"R_s (disk scale lengths) [pix]\"},\n",
    "                \"9\":  {\"col1\": \"0.5,0.5,0.5\", \"col2\": \"1\", \"col3\": \"band\", \"comment\": \"Axis ratio (b/a)\"},\n",
    "                \"10\": {\"col1\": \"0,0,0\", \"col2\": \"1\", \"col3\": \"band\", \"comment\": \"Position angle (PA) [deg: Up=0, Left=90]\"},\n",
    "                \"Z\":  {\"col1\": \"0\", \"col2\": \"\", \"col3\": \"\", \"comment\": \"Skip this model in output image? (yes=1, no=0)\"}\n",
    "            },\n",
    "            \"moffat\" : {\n",
    "                \"1\":  {\"col1\": \"300\", \"col2\": \"1\", \"col3\": \"band\", \"comment\": \"Position x [pixel]\"},\n",
    "                \"2\":  {\"col1\": \"357.4\", \"col2\": \"1\", \"col3\": \"band\", \"comment\": \"Position y [pixel]\"},\n",
    "                \"3\":  {\"col1\": \"23.03,22.30,22.22\", \"col2\": \"3\", \"col3\": \"band\", \"comment\": \"Total magnitude\"},\n",
    "                \"4\":  {\"col1\": \"10,10,10\", \"col2\": \"2\", \"col3\": \"band\", \"comment\": \"FWHM\"},\n",
    "                \"5\":  {\"col1\": \"1.5,1.5,1.5\", \"col2\": \"2\", \"col3\": \"band\", \"comment\": \"powerlaw\"},\n",
    "                \"9\":  {\"col1\": \"0.5,0.5,0.5\", \"col2\": \"1\", \"col3\": \"band\", \"comment\": \"Axis ratio (b/a)\"},\n",
    "                \"10\": {\"col1\": \"0,0,0\", \"col2\": \"1\", \"col3\": \"band\", \"comment\": \"Position angle (PA) [deg: Up=0, Left=90]\"},\n",
    "                \"Z\":  {\"col1\": \"0\", \"col2\": \"\", \"col3\": \"\", \"comment\": \"Skip this model in output image? (yes=1, no=0)\"}\n",
    "            },\n",
    "            \"ferrer\" : {\n",
    "                \"1\":  {\"col1\": \"300\", \"col2\": \"1\", \"col3\": \"band\", \"comment\": \"Position x [pixel]\"},\n",
    "                \"2\":  {\"col1\": \"357.4\", \"col2\": \"1\", \"col3\": \"band\", \"comment\": \"Position y [pixel]\"},\n",
    "                \"3\":  {\"col1\": \"23.03,22.30,22.22\", \"col2\": \"3\", \"col3\": \"band\", \"comment\": \"Central surface brghtness [mag/arcsec^2]\"},\n",
    "                \"4\":  {\"col1\": \"10,10,10\", \"col2\": \"2\", \"col3\": \"band\", \"comment\": \"Outer truncation radius  [pix]\"},\n",
    "                \"5\":  {\"col1\": \"1.5,1.5,1.5\", \"col2\": \"2\", \"col3\": \"band\", \"comment\": \"Alpha (outer truncation sharpness) \"},\n",
    "                \"6\":  {\"col1\": \"1.5,1.5,1.5\", \"col2\": \"2\", \"col3\": \"band\", \"comment\": \"Beta (central slope)\"},\n",
    "                \"9\":  {\"col1\": \"0.5,0.5,0.5\", \"col2\": \"1\", \"col3\": \"band\", \"comment\": \"Axis ratio (b/a)\"},\n",
    "                \"10\": {\"col1\": \"0,0,0\", \"col2\": \"1\", \"col3\": \"band\", \"comment\": \"Position angle (PA) [deg: Up=0, Left=90]\"},\n",
    "                \"Z\":  {\"col1\": \"0\", \"col2\": \"\", \"col3\": \"\", \"comment\": \"Skip this model in output image? (yes=1, no=0)\"}\n",
    "            },\n",
    "            \"psf\" : {\n",
    "                \"1\": {\"col1\": \"0,0,0\", \"col2\": \"0\", \"col3\": \"band\", \"comment\": \"position x [pixel]\"},\n",
    "                \"2\": {\"col1\": \"0,0,0\", \"col2\": \"0\", \"col3\": \"band\", \"comment\": \"position y [pixel]\"},\n",
    "                \"3\": {\"col1\": \"BKGG,BKGR,BKGI\", \"col2\": \"0\", \"col3\": \"band\", \"comment\": \"total magnitude \"},\n",
    "                \"Z\": {\"col1\": \"0\", \"col2\": \"\", \"col3\": \"\", \"comment\": \"Skip this model in output image? (yes=1, no=0)\"}\n",
    "            }\n",
    "        }\n",
    "\n",
    "        self.components = [\n",
    "            \"sersic\",\n",
    "            \"expdisk\", \n",
    "            \"moffat\",\n",
    "            \"ferrer\",\n",
    "            \"psf\",\n",
    "            \"sky\"\n",
    "        ]\n",
    "\n",
    "        self.active_components = []\n",
    "\n",
    "    \n",
    "\n",
    "    def activate_components(self, component_s = None):\n",
    "        if component_s is None:\n",
    "            self.activate_components = []\n",
    "        if isinstance(component_s, list):\n",
    "            for comp in component_s:\n",
    "                if comp in self.components:\n",
    "                    if comp not in self.active_components:\n",
    "                        self.active_components.append(comp)\n",
    "                else:\n",
    "                    raise Exception(f\"Not valid component - {comp}\")\n",
    "        else:\n",
    "            if component_s in self.components:\n",
    "                if component_s not in self.activate_components:\n",
    "                    self.active_components.append(component_s)\n",
    "            else:\n",
    "                raise Exception(f\"Not valid component - {comp}\")\n",
    "    \n",
    "    def write_component(self, component_name, feedme_path = None):\n",
    "        if feedme_path is None:\n",
    "            feedme_path = self.feedme_path\n",
    "\n",
    "        if component_name in self.active_components:\n",
    "            config = self.components_config[component_name]\n",
    "            f = open(feedme_path, \"a\")\n",
    "            f.write(\"\\n\\n\\n\")\n",
    "\n",
    "            f.write(\"0) \" + component_name + \"\\n\")\n",
    "            for i in self.components_config[component_name]:\n",
    "                final = i + \") \" + config[i]['col1'].ljust(35) + \" \" + config[i]['col2'].ljust(5) + config[i]['col3'].ljust(10) + \" \" + config[i]['comment'] + \"\\n\"\n",
    "                f.write(final)\n",
    "\n",
    "            f.close()\n",
    "        \n",
    "\n",
    "    def set_base(self, item, value):\n",
    "        if item in self.base:\n",
    "            self.base[item][\"value\"] = value\n",
    "        else:\n",
    "            raise KeyError(\"Parameter not found in galfit feedme base config.\")\n",
    "\n",
    "    def write_feedme(self, feedme_path = None):\n",
    "        if feedme_path is None:\n",
    "            feedme_path = self.feedme_path\n",
    "        self.write_base(feedme_path)\n",
    "\n",
    "        for component in self.active_components:\n",
    "            self.write_component(component, feedme_path)\n",
    "\n",
    "    def write_base(self, feedme_path = None):\n",
    "        if feedme_path is None:\n",
    "            feedme_path = self.feedme_path\n",
    "        file = open(feedme_path, \"w\")\n",
    "        for param in self.base:\n",
    "            final = str(param) + \") \" + str(self.base[param][\"value\"]).ljust(32) + \"# \" + str(self.base[param][\"comment\"]) + \"\\n\"\n",
    "            file.write(final)\n",
    "        file.close()\n",
    "    \n",
    "    "
   ]
  },
  {
   "cell_type": "code",
   "execution_count": 102,
   "metadata": {},
   "outputs": [],
   "source": [
    "pyg = PyGalfitm()\n",
    "\n",
    "pyg.set_base(\"A\", \"012\")"
   ]
  },
  {
   "cell_type": "code",
   "execution_count": 103,
   "metadata": {},
   "outputs": [],
   "source": [
    "pyg.activate_components([\"sersic\", \"expdisk\"])"
   ]
  },
  {
   "cell_type": "code",
   "execution_count": 104,
   "metadata": {},
   "outputs": [],
   "source": [
    "pyg.write_feedme()"
   ]
  },
  {
   "cell_type": "code",
   "execution_count": 59,
   "metadata": {},
   "outputs": [
    {
     "data": {
      "text/plain": [
       "['sersic', 'expdisk']"
      ]
     },
     "execution_count": 59,
     "metadata": {},
     "output_type": "execute_result"
    }
   ],
   "source": [
    "pyg.active_components"
   ]
  },
  {
   "cell_type": "code",
   "execution_count": 81,
   "metadata": {},
   "outputs": [],
   "source": []
  },
  {
   "cell_type": "code",
   "execution_count": null,
   "metadata": {},
   "outputs": [],
   "source": []
  },
  {
   "cell_type": "code",
   "execution_count": null,
   "metadata": {},
   "outputs": [],
   "source": []
  }
 ],
 "metadata": {
  "kernelspec": {
   "display_name": "base",
   "language": "python",
   "name": "python3"
  },
  "language_info": {
   "codemirror_mode": {
    "name": "ipython",
    "version": 3
   },
   "file_extension": ".py",
   "mimetype": "text/x-python",
   "name": "python",
   "nbconvert_exporter": "python",
   "pygments_lexer": "ipython3",
   "version": "3.9.12"
  },
  "orig_nbformat": 4,
  "vscode": {
   "interpreter": {
    "hash": "e333ff4aa18f9a0fa07511eb65a6239e0d8f0b6236173c323db3f36e6a940470"
   }
  }
 },
 "nbformat": 4,
 "nbformat_minor": 2
}
