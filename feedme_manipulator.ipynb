{
 "cells": [
  {
   "cell_type": "code",
   "execution_count": 1,
   "metadata": {},
   "outputs": [],
   "source": [
    "from pygalfitm import PyGalfitm\n",
    "\n",
    "pyg = PyGalfitm() \n",
    "\n",
    "pyg.set_base(\"A\", \"012\")"
   ]
  },
  {
   "cell_type": "code",
   "execution_count": null,
   "metadata": {},
   "outputs": [],
   "source": [
    "from pygalfitm.VOs import splus"
   ]
  },
  {
   "cell_type": "code",
   "execution_count": 2,
   "metadata": {},
   "outputs": [],
   "source": [
    "pyg.activate_components(pyg.components)"
   ]
  },
  {
   "cell_type": "code",
   "execution_count": 3,
   "metadata": {},
   "outputs": [],
   "source": [
    "pyg.write_feedme()\n",
    "pyg.set_component(\"sersic\", \"3\", \"1,1,1\")"
   ]
  },
  {
   "cell_type": "code",
   "execution_count": 4,
   "metadata": {},
   "outputs": [
    {
     "data": {
      "text/plain": [
       "['sersic', 'expdisk', 'moffat', 'ferrer', 'psf', 'sky']"
      ]
     },
     "execution_count": 4,
     "metadata": {},
     "output_type": "execute_result"
    }
   ],
   "source": [
    "pyg.active_components"
   ]
  },
  {
   "cell_type": "code",
   "execution_count": 5,
   "metadata": {},
   "outputs": [
    {
     "name": "stdout",
     "output_type": "stream",
     "text": [
      "1) 200.0,200.0,200.0                   1    band       Position x [pixel]\n",
      "2) 200.0,200.0,200.0                   1    band       Position y [pixel]\n",
      "3) 1,1,1                               3    band       Integrated magnitude\n",
      "4) 0,0,0                               2    band       R_e (effective radius) [pix]\n",
      "5) 0,0,0                               2    band       Sersic index n (de Vaucouleurs n=4)\n",
      "9) 0,0,0                               1    band       Axis ratio (b/a)\n",
      "10) 0,0,0                               1    band       Position angle (PA) [deg: Up=0, Left=90]\n",
      "Z) 0                                                   Skip this model in output image? (yes=1, no=0)\n"
     ]
    }
   ],
   "source": [
    "pyg.print_component(\"sersic\")"
   ]
  },
  {
   "cell_type": "code",
   "execution_count": null,
   "metadata": {},
   "outputs": [],
   "source": []
  },
  {
   "cell_type": "code",
   "execution_count": 6,
   "metadata": {},
   "outputs": [
    {
     "name": "stdout",
     "output_type": "stream",
     "text": [
      "You have access to internal data\n"
     ]
    }
   ],
   "source": [
    "import pygalfitm\n",
    "import splusdata\n",
    "\n",
    "conn = splusdata.connect()"
   ]
  },
  {
   "cell_type": "code",
   "execution_count": 7,
   "metadata": {},
   "outputs": [],
   "source": [
    "ra = 52.430082897775755\t\n",
    "dec = -33.557141932864596"
   ]
  },
  {
   "cell_type": "code",
   "execution_count": 8,
   "metadata": {},
   "outputs": [],
   "source": [
    "im = conn.get_cut(ra, dec, 200, \"R\")"
   ]
  },
  {
   "cell_type": "code",
   "execution_count": 9,
   "metadata": {},
   "outputs": [
    {
     "name": "stdout",
     "output_type": "stream",
     "text": [
      "finished\n"
     ]
    }
   ],
   "source": [
    "table = conn.query(f\"\"\"\n",
    "    select * from \"idr4_single\".\"idr4_single_r\" as r\n",
    "    where \n",
    "    1 = CONTAINS( POINT('ICRS', r.ra_r, r.dec_r), \n",
    "    CIRCLE('ICRS', {ra}, {dec}, 0.0015))\n",
    "\"\"\")"
   ]
  },
  {
   "cell_type": "code",
   "execution_count": 12,
   "metadata": {},
   "outputs": [
    {
     "name": "stdout",
     "output_type": "stream",
     "text": [
      "finished\n",
      "finished\n",
      "finished\n",
      "1) 200.0,200.0,200.0                   1    band       Position x [pixel]\n",
      "2) 200.0,200.0,200.0                   1    band       Position y [pixel]\n",
      "3) 14.107952,14.022123,14.922325       3    band       Integrated magnitude\n",
      "4) 30.087149,25.440218,24.733025       2    band       R_e (effective radius) [pix]\n",
      "5) 0,0,0                               2    band       Sersic index n (de Vaucouleurs n=4)\n",
      "9) 0.7046503,0.6433851,0.7636552       1    band       Axis ratio (b/a)\n",
      "10) 23.058279,15.269562,32.80171        1    band       Position angle (PA) [deg: Up=0, Left=90]\n",
      "Z) 0                                                   Skip this model in output image? (yes=1, no=0)\n"
     ]
    }
   ],
   "source": [
    "axis_ratios, effective_rs, position_angles, mags = get_sersic_splus(ra, dec)\n",
    "\n",
    "pyg.set_component(\"sersic\", \"3\", mags)\n",
    "pyg.set_component(\"sersic\", \"4\", effective_rs)\n",
    "pyg.set_component(\"sersic\", \"9\", axis_ratios)\n",
    "pyg.set_component(\"sersic\", \"10\", position_angles)\n",
    "\n",
    "pyg.print_component(\"sersic\")"
   ]
  },
  {
   "cell_type": "code",
   "execution_count": 16,
   "metadata": {},
   "outputs": [
    {
     "name": "stdout",
     "output_type": "stream",
     "text": [
      "1) 200.0,200.0,200.0                   1    band       Position x [pixel]\n",
      "2) 200.0,200.0,200.0                   1    band       Position y [pixel]\n",
      "3) 14.107952,14.022123,14.922325       3    band       Integrated magnitude\n",
      "4) 30.087149,25.440218,24.733025       2    band       R_e (effective radius) [pix]\n",
      "5) 4                                   2    band       Sersic index n (de Vaucouleurs n=4)\n",
      "9) 0.7046503,0.6433851,0.7636552       1    band       Axis ratio (b/a)\n",
      "10) 23.058279,15.269562,32.80171        1    band       Position angle (PA) [deg: Up=0, Left=90]\n",
      "Z) 0                                                   Skip this model in output image? (yes=1, no=0)\n"
     ]
    }
   ],
   "source": [
    "pyg.print_component(\"sersic\")"
   ]
  },
  {
   "cell_type": "code",
   "execution_count": null,
   "metadata": {},
   "outputs": [],
   "source": []
  }
 ],
 "metadata": {
  "kernelspec": {
   "display_name": "base",
   "language": "python",
   "name": "python3"
  },
  "language_info": {
   "codemirror_mode": {
    "name": "ipython",
    "version": 3
   },
   "file_extension": ".py",
   "mimetype": "text/x-python",
   "name": "python",
   "nbconvert_exporter": "python",
   "pygments_lexer": "ipython3",
   "version": "3.9.12"
  },
  "orig_nbformat": 4,
  "vscode": {
   "interpreter": {
    "hash": "e333ff4aa18f9a0fa07511eb65a6239e0d8f0b6236173c323db3f36e6a940470"
   }
  }
 },
 "nbformat": 4,
 "nbformat_minor": 2
}
