{
 "cells": [
  {
   "cell_type": "code",
   "execution_count": 1,
   "metadata": {},
   "outputs": [],
   "source": [
    "from pygalfitm import PyGalfitm\n",
    "from pygalfitm.VOs import splus\n",
    "from pygalfitm.auxiliars import string_times_x, get_dims, get_exptime, unpack_file\n",
    "from pygalfitm.psf import make_psf\n",
    "\n",
    "import splusdata\n",
    "\n",
    "import os"
   ]
  },
  {
   "cell_type": "code",
   "execution_count": 2,
   "metadata": {},
   "outputs": [],
   "source": [
    "name = \"ari_test\"\n",
    "\n",
    "ra = 52.430082897775755\t\n",
    "dec = -33.557141932864596\n",
    "cut_size = 200\n",
    "bands = [\"I\", \"R\", \"G\"]\n",
    "\n",
    "DATA_FOLDER = \"data/\"\n",
    "OUTPUT_FOLDER = \"outputs/\""
   ]
  },
  {
   "cell_type": "code",
   "execution_count": 3,
   "metadata": {},
   "outputs": [
    {
     "name": "stdout",
     "output_type": "stream",
     "text": [
      "You have access to internal data\n"
     ]
    }
   ],
   "source": [
    "conn = splusdata.connect(\"gustavo\", \"asdflkjh\")"
   ]
  },
  {
   "cell_type": "code",
   "execution_count": 4,
   "metadata": {},
   "outputs": [],
   "source": [
    "pyg = PyGalfitm() "
   ]
  },
  {
   "cell_type": "code",
   "execution_count": 5,
   "metadata": {},
   "outputs": [
    {
     "name": "stdout",
     "output_type": "stream",
     "text": [
      "File data/ari_test_i.fits.fz already exists. If you mean to replace it then use the argument \"overwrite=True\".\n",
      "File data/ari_test_r.fits.fz already exists. If you mean to replace it then use the argument \"overwrite=True\".\n",
      "File data/ari_test_g.fits.fz already exists. If you mean to replace it then use the argument \"overwrite=True\".\n",
      "finished\n",
      "finished\n",
      "finished\n"
     ]
    }
   ],
   "source": [
    "import pandas as pd\n",
    "from astropy.io.fits import getheader\n",
    "\n",
    "input_images = \"\"\n",
    "psf_images = \"\"\n",
    "filters = \"\"\n",
    "zps = \"\"\n",
    "\n",
    "df = pd.read_csv(\"pygalfitm/VOs/splus_idr4_zps.csv\")\n",
    "\n",
    "header = getheader(os.path.join(DATA_FOLDER, name + \"_r.fits\"))\n",
    "field = header['OBJECT']\n",
    "\n",
    "for band in bands:\n",
    "    try:\n",
    "        conn.get_cut(ra, dec, 200, band, filepath=os.path.join(DATA_FOLDER, f'{name}_{band.lower()}.fits'))\n",
    "    except Exception as e:\n",
    "        print(e)\n",
    "    \n",
    "    try:\n",
    "        unpack_file(os.path.join(DATA_FOLDER, f'{name}_{band.lower()}.fits.fz'))\n",
    "    except Exception as e:\n",
    "        print(e)\n",
    "        print(\"Make sure you have fpack (cfitsio) in your system alias.\")\n",
    "    \n",
    "    make_psf(os.path.join(DATA_FOLDER, f'{name}_{band.lower()}.fits'), outfile=os.path.join(DATA_FOLDER, f'psf_{name}_{band.lower()}.fits'))\n",
    "\n",
    "    input_images += \",\" + os.path.join(DATA_FOLDER, f'{name}_{band.lower()}.fits')\n",
    "    psf_images += \",\" + os.path.join(DATA_FOLDER, f'psf_{name}_{band.lower()}.fits')\n",
    "    filters += \",\" + str(band).lower()\n",
    "\n",
    "    zps += \",\" + str(df[df['Field'] == field][f'ZP_{band.lower().replace(\"f\", \"J0\")}'].values[0])\n",
    "\n",
    "\n",
    "input_images = input_images[1:]\n",
    "psf_images = psf_images[1:]\n",
    "filters = filters[1:]\n",
    "zps = zps[1:]\n",
    "\n",
    "axis_ratios, effective_rs, position_angles, mags = splus.get_sersic_splus(conn, ra, dec, bands)\n",
    "\n",
    "\n",
    "pyg.activate_components()\n",
    "pyg.activate_components([\"sersic\"])\n",
    "\n",
    "pyg.set_base({\n",
    "    \"A\": input_images,\n",
    "    \"A1\": filters,\n",
    "    \"B\": os.path.join(OUTPUT_FOLDER, name + \"ss.fits\"),\n",
    "    \"C\": \"none\",\n",
    "    \"D\": psf_images,\n",
    "    \"A2\": \"7625,6231,4770\",\n",
    "    \"H\": f\"1   {cut_size}  1   {cut_size}\",\n",
    "    \"I\": f\"{cut_size} {cut_size}\",\n",
    "    \"J\": zps,\n",
    "    \"K\": \"0.55 0.55\"\n",
    "})\n",
    "\n",
    "pyg.set_component(\"sersic\", {\n",
    "    \"1\": ( string_times_x(cut_size / 2, 3), 1, \"band\" ),\n",
    "    \"2\": ( string_times_x(cut_size / 2, 3), 1, \"band\" ), \n",
    "    \"3\": ( mags, 3, \"band\" ), \n",
    "    \"4\": ( effective_rs, 2, \"band\" ),\n",
    "    \"5\": ( string_times_x(\"4\", 3), 2, \"band\" ),\n",
    "    \"9\": ( axis_ratios, 1, \"band\" ),\n",
    "    \"10\": ( position_angles, 1, \"band\" )\n",
    "})\n",
    "\n",
    "pyg.write_feedme()\n"
   ]
  },
  {
   "cell_type": "code",
   "execution_count": 9,
   "metadata": {},
   "outputs": [],
   "source": [
    "_ = pyg.run()"
   ]
  },
  {
   "cell_type": "code",
   "execution_count": null,
   "metadata": {},
   "outputs": [],
   "source": []
  }
 ],
 "metadata": {
  "kernelspec": {
   "display_name": "base",
   "language": "python",
   "name": "python3"
  },
  "language_info": {
   "codemirror_mode": {
    "name": "ipython",
    "version": 3
   },
   "file_extension": ".py",
   "mimetype": "text/x-python",
   "name": "python",
   "nbconvert_exporter": "python",
   "pygments_lexer": "ipython3",
   "version": "3.9.12"
  },
  "orig_nbformat": 4,
  "vscode": {
   "interpreter": {
    "hash": "e333ff4aa18f9a0fa07511eb65a6239e0d8f0b6236173c323db3f36e6a940470"
   }
  }
 },
 "nbformat": 4,
 "nbformat_minor": 2
}
