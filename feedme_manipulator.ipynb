{
 "cells": [
  {
   "cell_type": "code",
   "execution_count": 29,
   "metadata": {},
   "outputs": [],
   "source": [
    "pyg = PyGalfitm() \n",
    "\n",
    "pyg.set_base(\"A\", \"012\")"
   ]
  },
  {
   "cell_type": "code",
   "execution_count": 30,
   "metadata": {},
   "outputs": [],
   "source": [
    "pyg.activate_components(pyg.components)"
   ]
  },
  {
   "cell_type": "code",
   "execution_count": 31,
   "metadata": {},
   "outputs": [],
   "source": [
    "pyg.write_feedme()\n",
    "pyg.set_component(\"sersic\", \"3\", \"1,1,1\")"
   ]
  },
  {
   "cell_type": "code",
   "execution_count": 32,
   "metadata": {},
   "outputs": [
    {
     "data": {
      "text/plain": [
       "['sersic', 'expdisk', 'moffat', 'ferrer', 'psf', 'sky']"
      ]
     },
     "execution_count": 32,
     "metadata": {},
     "output_type": "execute_result"
    }
   ],
   "source": [
    "pyg.active_components"
   ]
  },
  {
   "cell_type": "code",
   "execution_count": 37,
   "metadata": {},
   "outputs": [
    {
     "name": "stdout",
     "output_type": "stream",
     "text": [
      "1) 200.0,200.0,200.0                   1    band       Position x [pixel]\n",
      "2) 200.0,200.0,200.0                   1    band       Position y [pixel]\n",
      "3) 1,1,1                               3    band       Integrated magnitude\n",
      "4) 0,0,0                               2    band       R_e (effective radius) [pix]\n",
      "5) 0,0,0                               2    band       Sersic index n (de Vaucouleurs n=4)\n",
      "9) 0,0,0                               1    band       Axis ratio (b/a)\n",
      "10) 0,0,0                               1    band       Position angle (PA) [deg: Up=0, Left=90]\n",
      "Z) 0                                                   Skip this model in output image? (yes=1, no=0)\n"
     ]
    }
   ],
   "source": [
    "pyg.print_component(\"sersic\")"
   ]
  },
  {
   "cell_type": "code",
   "execution_count": 38,
   "metadata": {},
   "outputs": [],
   "source": [
    "ra = 52.430082897775755\t\n",
    "dec = -33.557141932864596\n",
    "\n"
   ]
  },
  {
   "cell_type": "code",
   "execution_count": 5,
   "metadata": {},
   "outputs": [],
   "source": [
    "import pygalfitm\n",
    "import splusdata"
   ]
  },
  {
   "cell_type": "code",
   "execution_count": 4,
   "metadata": {},
   "outputs": [
    {
     "data": {
      "text/plain": [
       "<pygalfitm.pygalfitm.PyGalfitm at 0x105ed8a90>"
      ]
     },
     "execution_count": 4,
     "metadata": {},
     "output_type": "execute_result"
    }
   ],
   "source": [
    "pygalfitm.PyGalfitm()"
   ]
  },
  {
   "cell_type": "code",
   "execution_count": null,
   "metadata": {},
   "outputs": [],
   "source": []
  }
 ],
 "metadata": {
  "kernelspec": {
   "display_name": "base",
   "language": "python",
   "name": "python3"
  },
  "language_info": {
   "codemirror_mode": {
    "name": "ipython",
    "version": 3
   },
   "file_extension": ".py",
   "mimetype": "text/x-python",
   "name": "python",
   "nbconvert_exporter": "python",
   "pygments_lexer": "ipython3",
   "version": "3.9.12"
  },
  "orig_nbformat": 4,
  "vscode": {
   "interpreter": {
    "hash": "e333ff4aa18f9a0fa07511eb65a6239e0d8f0b6236173c323db3f36e6a940470"
   }
  }
 },
 "nbformat": 4,
 "nbformat_minor": 2
}
