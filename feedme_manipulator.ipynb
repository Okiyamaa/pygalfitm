{
 "cells": [
  {
   "cell_type": "code",
   "execution_count": 1,
   "metadata": {},
   "outputs": [],
   "source": [
    "from pygalfitm import PyGalfitm\n",
    "from pygalfitm.VOs import splus\n",
    "from pygalfitm.auxiliars import string_times_x, get_dims, get_exptime, unpack_file\n",
    "from pygalfitm.psf import make_psf\n",
    "\n",
    "import splusdata\n",
    "\n",
    "import os"
   ]
  },
  {
   "cell_type": "code",
   "execution_count": 2,
   "metadata": {},
   "outputs": [],
   "source": [
    "name = \"ari_test\"\n",
    "\n",
    "ra = 52.430082897775755\t\n",
    "dec = -33.557141932864596\n",
    "cut_size = 200\n",
    "bands = [\"I\", \"R\", \"G\"]\n",
    "\n",
    "DATA_FOLDER = \"data/\"\n",
    "OUTPUT_FOLDER = \"outputs/\""
   ]
  },
  {
   "cell_type": "code",
   "execution_count": 3,
   "metadata": {},
   "outputs": [
    {
     "name": "stdout",
     "output_type": "stream",
     "text": [
      "You have access to internal data\n"
     ]
    }
   ],
   "source": [
    "conn = splusdata.connect(\"gustavo\", \"asdflkjh\")"
   ]
  },
  {
   "cell_type": "code",
   "execution_count": 4,
   "metadata": {},
   "outputs": [],
   "source": [
    "pyg = PyGalfitm() "
   ]
  },
  {
   "cell_type": "code",
   "execution_count": 5,
   "metadata": {},
   "outputs": [],
   "source": [
    "input_images = \"\"\n",
    "psf_images = \"\"\n",
    "filters = \"\"\n",
    "\n",
    "for band in bands:\n",
    "    conn.get_cut(ra, dec, 200, band, filepath=os.path.join(DATA_FOLDER, f'{name}_{band.lower()}.fits'))\n",
    "    \n",
    "    unpack_file(os.path.join(DATA_FOLDER, f'{name}_{band.lower()}.fits.fz'))\n",
    "    make_psf(os.path.join(DATA_FOLDER, f'{name}_{band.lower()}.fits'), outfile=os.path.join(DATA_FOLDER, f'psf_{name}_{band.lower()}.fits'))\n",
    "\n",
    "    input_images += \",\" + os.path.join(DATA_FOLDER, f'{name}_{band.lower()}.fits')\n",
    "    psf_images += \",\" + os.path.join(DATA_FOLDER, f'psf_{name}_{band.lower()}.fits')\n",
    "\n",
    "    filters += \",\" + str(band).lower()\n",
    "\n",
    "input_images = input_images[1:]\n",
    "psf_images = psf_images[1:]\n",
    "filters = filters[1:]"
   ]
  },
  {
   "cell_type": "code",
   "execution_count": 22,
   "metadata": {},
   "outputs": [],
   "source": [
    "import pandas as pd\n",
    "\n",
    "df = pd.read_csv(\"pygalfitm/VOs/splus_idr4_zps.csv\")"
   ]
  },
  {
   "cell_type": "code",
   "execution_count": 27,
   "metadata": {},
   "outputs": [],
   "source": [
    "from astropy.io.fits import getheader\n",
    "\n",
    "header = getheader(os.path.join(DATA_FOLDER, name + \"_r.fits\"))\n",
    "field = header['OBJECT']"
   ]
  },
  {
   "cell_type": "code",
   "execution_count": 39,
   "metadata": {},
   "outputs": [],
   "source": [
    "zps = \"\"\n",
    "\n",
    "for band in bands:\n",
    "    zps += \",\" + str(df[df['Field'] == field][f'ZP_{band.lower().replace(\"f\", \"J0\")}'].values[0])\n",
    "\n",
    "zps = zps[1:]"
   ]
  },
  {
   "cell_type": "code",
   "execution_count": 40,
   "metadata": {},
   "outputs": [
    {
     "data": {
      "text/plain": [
       "'23.344,23.535,23.49'"
      ]
     },
     "execution_count": 40,
     "metadata": {},
     "output_type": "execute_result"
    }
   ],
   "source": [
    "zps"
   ]
  },
  {
   "cell_type": "code",
   "execution_count": 41,
   "metadata": {},
   "outputs": [],
   "source": [
    "pyg.set_base({\n",
    "    \"A\": input_images,\n",
    "    \"A1\": filters,\n",
    "    \"B\": os.path.join(OUTPUT_FOLDER, name + \"ss.fits\"),\n",
    "    \"C\": \"none\",\n",
    "    \"D\": psf_images,\n",
    "    \"A2\": \"7625,6231,4770\",\n",
    "    \"H\": f\"1   {cut_size}  1   {cut_size}\",\n",
    "    \"I\": f\"{cut_size} {cut_size}\",\n",
    "    \"J\": zps,\n",
    "    \"K\": \"0.55 0.55\"\n",
    "})"
   ]
  },
  {
   "cell_type": "code",
   "execution_count": 42,
   "metadata": {},
   "outputs": [
    {
     "name": "stdout",
     "output_type": "stream",
     "text": [
      "A) data/ari_test_i.fits,data/ari_test_r.fits,data/ari_test_g.fits # Input data image (FITS file)\n",
      "A1) i,r,g                            # Nick names (band labels) \n",
      "A2) 7625,6231,4770                   # Effective wavelenghts\n",
      "B) outputs/ari_testss.fits          # Output data image block\n",
      "C) none                             # Sigma image name (made from data if blank or 'none')\n",
      "D) data/psf_ari_test_i.fits,data/psf_ari_test_r.fits,data/psf_ari_test_g.fits # Input PSF image and (optional) diffusion kernel\n",
      "E) 1                                # PSF fine sampling factor relative to data \n",
      "F) none                             # Bad pixel mask (FITS image or ASCII coord list)\n",
      "G) none                             # File with parameter constraints (ASCII file) \n",
      "H) 1   200  1   200                 # Image region to fit (xmin xmax ymin ymax)\n",
      "I) 200 200                          # Size of the convolution box (x y)\n",
      "J) 23.344,23.535,23.49              # Magnitude photometric zeropoint\n",
      "K) 0.55 0.55                        # Plate scale (dx dy)   [arcsec per pixel]\n",
      "O) regular                          # Display type (regular, curses, both)\n",
      "P) 0                                # Choose: 0=optimize, 1=model, 2=imgblock, 3=subcomps\n",
      "U) 0                                # \n"
     ]
    }
   ],
   "source": [
    "pyg.print_base()"
   ]
  },
  {
   "cell_type": "code",
   "execution_count": 43,
   "metadata": {},
   "outputs": [
    {
     "name": "stdout",
     "output_type": "stream",
     "text": [
      "finished\n",
      "finished\n",
      "finished\n"
     ]
    }
   ],
   "source": [
    "axis_ratios, effective_rs, position_angles, mags = splus.get_sersic_splus(conn, ra, dec, bands)"
   ]
  },
  {
   "cell_type": "code",
   "execution_count": 44,
   "metadata": {},
   "outputs": [
    {
     "name": "stdout",
     "output_type": "stream",
     "text": [
      "1) 100.0,100.0,100.0                   1    band       # Position x [pixel]\n",
      "2) 100.0,100.0,100.0                   1    band       # Position y [pixel]\n",
      "3) 14.022123,14.107952,14.922325       3    band       # Integrated magnitude\n",
      "4) 25.440218,30.087149,24.733025       2    band       # R_e (effective radius) [pix]\n",
      "5) 4,4,4                               2    band       # Sersic index n (de Vaucouleurs n=4)\n",
      "9) 0.6433851,0.7046503,0.7636552       1    band       # Axis ratio (b/a)\n",
      "10) 15.269562,23.058279,32.80171        1    band       # Position angle (PA) [deg: Up=0, Left=90]\n",
      "Z) 0                                                   # Skip this model in output image? (yes=1, no=0)\n"
     ]
    }
   ],
   "source": [
    "pyg.set_component(\"sersic\", \"1\", string_times_x(cut_size / 2, 3))\n",
    "pyg.set_component(\"sersic\", \"2\", string_times_x(cut_size / 2, 3))\n",
    "pyg.set_component(\"sersic\", \"3\", mags)\n",
    "pyg.set_component(\"sersic\", \"4\", effective_rs)\n",
    "pyg.set_component(\"sersic\", \"5\", string_times_x(\"4\", 3))\n",
    "pyg.set_component(\"sersic\", \"9\", axis_ratios)\n",
    "pyg.set_component(\"sersic\", \"10\", position_angles)\n",
    "\n",
    "pyg.print_component(\"sersic\")"
   ]
  },
  {
   "cell_type": "code",
   "execution_count": 45,
   "metadata": {},
   "outputs": [
    {
     "ename": "TypeError",
     "evalue": "'list' object is not callable",
     "output_type": "error",
     "traceback": [
      "\u001b[0;31m---------------------------------------------------------------------------\u001b[0m",
      "\u001b[0;31mTypeError\u001b[0m                                 Traceback (most recent call last)",
      "\u001b[1;32m/Users/gustavo/Documents/pygalfit/feedme_manipulator.ipynb Cell 14\u001b[0m in \u001b[0;36m<cell line: 1>\u001b[0;34m()\u001b[0m\n\u001b[0;32m----> <a href='vscode-notebook-cell:/Users/gustavo/Documents/pygalfit/feedme_manipulator.ipynb#X15sZmlsZQ%3D%3D?line=0'>1</a>\u001b[0m pyg\u001b[39m.\u001b[39;49mactivate_components()\n\u001b[1;32m      <a href='vscode-notebook-cell:/Users/gustavo/Documents/pygalfit/feedme_manipulator.ipynb#X15sZmlsZQ%3D%3D?line=1'>2</a>\u001b[0m pyg\u001b[39m.\u001b[39mactivate_components(\u001b[39m\"\u001b[39m\u001b[39msersic\u001b[39m\u001b[39m\"\u001b[39m)\n",
      "\u001b[0;31mTypeError\u001b[0m: 'list' object is not callable"
     ]
    }
   ],
   "source": [
    "pyg.activate_components()\n",
    "pyg.activate_components(\"sersic\")"
   ]
  },
  {
   "cell_type": "code",
   "execution_count": 46,
   "metadata": {},
   "outputs": [],
   "source": [
    "pyg.write_feedme()"
   ]
  },
  {
   "cell_type": "code",
   "execution_count": 47,
   "metadata": {},
   "outputs": [],
   "source": [
    "pyg.run()"
   ]
  },
  {
   "cell_type": "code",
   "execution_count": null,
   "metadata": {},
   "outputs": [],
   "source": []
  }
 ],
 "metadata": {
  "kernelspec": {
   "display_name": "base",
   "language": "python",
   "name": "python3"
  },
  "language_info": {
   "codemirror_mode": {
    "name": "ipython",
    "version": 3
   },
   "file_extension": ".py",
   "mimetype": "text/x-python",
   "name": "python",
   "nbconvert_exporter": "python",
   "pygments_lexer": "ipython3",
   "version": "3.9.12"
  },
  "orig_nbformat": 4,
  "vscode": {
   "interpreter": {
    "hash": "e333ff4aa18f9a0fa07511eb65a6239e0d8f0b6236173c323db3f36e6a940470"
   }
  }
 },
 "nbformat": 4,
 "nbformat_minor": 2
}
