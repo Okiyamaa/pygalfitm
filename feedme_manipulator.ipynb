{
 "cells": [
  {
   "cell_type": "code",
   "execution_count": 26,
   "metadata": {},
   "outputs": [],
   "source": [
    "from pygalfitm import PyGalfitm\n",
    "from pygalfitm.VOs import splus\n",
    "from pygalfitm.auxiliars import string_times_x, get_dims, get_exptime, unpack_file\n",
    "from pygalfitm.psf import make_psf\n",
    "\n",
    "import splusdata\n",
    "\n",
    "import os"
   ]
  },
  {
   "cell_type": "code",
   "execution_count": 29,
   "metadata": {},
   "outputs": [],
   "source": [
    "name = \"ari_test\"\n",
    "\n",
    "ra = 52.430082897775755\t\n",
    "dec = -33.557141932864596\n",
    "cut_size = 200\n",
    "bands = [\"I\", \"R\", \"G\"]\n",
    "\n",
    "DATA_FOLDER = \"data/\"\n",
    "OUTPUT_FOLDER = \"outputs/\""
   ]
  },
  {
   "cell_type": "code",
   "execution_count": 31,
   "metadata": {},
   "outputs": [
    {
     "name": "stdout",
     "output_type": "stream",
     "text": [
      "You have access to internal data\n"
     ]
    }
   ],
   "source": [
    "conn = splusdata.connect(\"gustavo\", \"asdflkjh\")"
   ]
  },
  {
   "cell_type": "code",
   "execution_count": 32,
   "metadata": {},
   "outputs": [],
   "source": [
    "pyg = PyGalfitm() "
   ]
  },
  {
   "cell_type": "code",
   "execution_count": 33,
   "metadata": {},
   "outputs": [
    {
     "name": "stdout",
     "output_type": "stream",
     "text": [
      "File data/ari_test_i.fits.fz already exists. If you mean to replace it then use the argument \"overwrite=True\".\n",
      "File data/ari_test_r.fits.fz already exists. If you mean to replace it then use the argument \"overwrite=True\".\n",
      "File data/ari_test_g.fits.fz already exists. If you mean to replace it then use the argument \"overwrite=True\".\n"
     ]
    }
   ],
   "source": [
    "input_images = \"\"\n",
    "psf_images = \"\"\n",
    "filters = \"\"\n",
    "\n",
    "for band in bands:\n",
    "    try:\n",
    "        conn.get_cut(ra, dec, 200, band, filepath=os.path.join(DATA_FOLDER, f'{name}_{band.lower()}.fits'))\n",
    "    except Exception as e:\n",
    "        print(e)\n",
    "    \n",
    "    try:\n",
    "        unpack_file(os.path.join(DATA_FOLDER, f'{name}_{band.lower()}.fits.fz'))\n",
    "    except Exception as e:\n",
    "        print(e)\n",
    "        print(\"Make sure you have fpack (cfitsio) in your system alias.\")\n",
    "    \n",
    "    make_psf(os.path.join(DATA_FOLDER, f'{name}_{band.lower()}.fits'), outfile=os.path.join(DATA_FOLDER, f'psf_{name}_{band.lower()}.fits'))\n",
    "\n",
    "    input_images += \",\" + os.path.join(DATA_FOLDER, f'{name}_{band.lower()}.fits')\n",
    "    psf_images += \",\" + os.path.join(DATA_FOLDER, f'psf_{name}_{band.lower()}.fits')\n",
    "\n",
    "    filters += \",\" + str(band).lower()\n",
    "\n",
    "input_images = input_images[1:]\n",
    "psf_images = psf_images[1:]\n",
    "filters = filters[1:]"
   ]
  },
  {
   "cell_type": "code",
   "execution_count": 34,
   "metadata": {},
   "outputs": [],
   "source": [
    "import pandas as pd\n",
    "\n",
    "df = pd.read_csv(\"pygalfitm/VOs/splus_idr4_zps.csv\")"
   ]
  },
  {
   "cell_type": "code",
   "execution_count": 35,
   "metadata": {},
   "outputs": [],
   "source": [
    "from astropy.io.fits import getheader\n",
    "\n",
    "header = getheader(os.path.join(DATA_FOLDER, name + \"_r.fits\"))\n",
    "field = header['OBJECT']"
   ]
  },
  {
   "cell_type": "code",
   "execution_count": 36,
   "metadata": {},
   "outputs": [],
   "source": [
    "zps = \"\"\n",
    "\n",
    "for band in bands:\n",
    "    zps += \",\" + str(df[df['Field'] == field][f'ZP_{band.lower().replace(\"f\", \"J0\")}'].values[0])\n",
    "\n",
    "zps = zps[1:]"
   ]
  },
  {
   "cell_type": "code",
   "execution_count": 37,
   "metadata": {},
   "outputs": [
    {
     "data": {
      "text/plain": [
       "'23.344,23.535,23.49'"
      ]
     },
     "execution_count": 37,
     "metadata": {},
     "output_type": "execute_result"
    }
   ],
   "source": [
    "zps"
   ]
  },
  {
   "cell_type": "code",
   "execution_count": 38,
   "metadata": {},
   "outputs": [],
   "source": [
    "pyg.set_base({\n",
    "    \"A\": input_images,\n",
    "    \"A1\": filters,\n",
    "    \"B\": os.path.join(OUTPUT_FOLDER, name + \"ss.fits\"),\n",
    "    \"C\": \"none\",\n",
    "    \"D\": psf_images,\n",
    "    \"A2\": \"7625,6231,4770\",\n",
    "    \"H\": f\"1   {cut_size}  1   {cut_size}\",\n",
    "    \"I\": f\"{cut_size} {cut_size}\",\n",
    "    \"J\": zps,\n",
    "    \"K\": \"0.55 0.55\"\n",
    "})"
   ]
  },
  {
   "cell_type": "code",
   "execution_count": 39,
   "metadata": {},
   "outputs": [
    {
     "name": "stdout",
     "output_type": "stream",
     "text": [
      "A) data/ari_test_i.fits,data/ari_test_r.fits,data/ari_test_g.fits # Input data image (FITS file)\n",
      "A1) i,r,g                            # Nick names (band labels) \n",
      "A2) 7625,6231,4770                   # Effective wavelenghts\n",
      "B) outputs/ari_testss.fits          # Output data image block\n",
      "C) none                             # Sigma image name (made from data if blank or 'none')\n",
      "D) data/psf_ari_test_i.fits,data/psf_ari_test_r.fits,data/psf_ari_test_g.fits # Input PSF image and (optional) diffusion kernel\n",
      "E) 1                                # PSF fine sampling factor relative to data \n",
      "F) none                             # Bad pixel mask (FITS image or ASCII coord list)\n",
      "G) none                             # File with parameter constraints (ASCII file) \n",
      "H) 1   200  1   200                 # Image region to fit (xmin xmax ymin ymax)\n",
      "I) 200 200                          # Size of the convolution box (x y)\n",
      "J) 23.344,23.535,23.49              # Magnitude photometric zeropoint\n",
      "K) 0.55 0.55                        # Plate scale (dx dy)   [arcsec per pixel]\n",
      "O) regular                          # Display type (regular, curses, both)\n",
      "P) 0                                # Choose: 0=optimize, 1=model, 2=imgblock, 3=subcomps\n",
      "U) 0                                # \n"
     ]
    }
   ],
   "source": [
    "pyg.print_base()"
   ]
  },
  {
   "cell_type": "code",
   "execution_count": 40,
   "metadata": {},
   "outputs": [
    {
     "name": "stdout",
     "output_type": "stream",
     "text": [
      "finished\n",
      "finished\n",
      "finished\n"
     ]
    }
   ],
   "source": [
    "axis_ratios, effective_rs, position_angles, mags = splus.get_sersic_splus(conn, ra, dec, bands)"
   ]
  },
  {
   "cell_type": "code",
   "execution_count": 13,
   "metadata": {},
   "outputs": [
    {
     "name": "stdout",
     "output_type": "stream",
     "text": [
      "1) 100.0,100.0,100.0                   1    band       # Position x [pixel]\n",
      "2) 100.0,100.0,100.0                   1    band       # Position y [pixel]\n",
      "3) 14.022123,14.107952,14.922325       3    band       # Integrated magnitude\n",
      "4) 25.440218,30.087149,24.733025       2    band       # R_e (effective radius) [pix]\n",
      "5) 4,4,4                               2    band       # Sersic index n (de Vaucouleurs n=4)\n",
      "9) 0.6433851,0.7046503,0.7636552       1    band       # Axis ratio (b/a)\n",
      "10) 15.269562,23.058279,32.80171        1    band       # Position angle (PA) [deg: Up=0, Left=90]\n",
      "Z) 0                                                   # Skip this model in output image? (yes=1, no=0)\n"
     ]
    }
   ],
   "source": [
    "pyg.set_component(\"sersic\", \"1\", string_times_x(cut_size / 2, 3))\n",
    "pyg.set_component(\"sersic\", \"2\", string_times_x(cut_size / 2, 3))\n",
    "pyg.set_component(\"sersic\", \"3\", mags)\n",
    "pyg.set_component(\"sersic\", \"4\", effective_rs)\n",
    "pyg.set_component(\"sersic\", \"5\", string_times_x(\"4\", 3))\n",
    "pyg.set_component(\"sersic\", \"9\", axis_ratios)\n",
    "pyg.set_component(\"sersic\", \"10\", position_angles)\n",
    "\n",
    "pyg.print_component(\"sersic\")"
   ]
  },
  {
   "cell_type": "code",
   "execution_count": 70,
   "metadata": {},
   "outputs": [],
   "source": [
    "pyg = PyGalfitm()"
   ]
  },
  {
   "cell_type": "code",
   "execution_count": 75,
   "metadata": {},
   "outputs": [],
   "source": [
    "pyg.set_component(\"sersic\", {\n",
    "    \"1\": (string_times_x(cut_size / 2, 3), 1, \"band\" ),\n",
    "    \"2\": string_times_x(cut_size / 2, 3), \n",
    "    \"3\": mags, \n",
    "    \"4\": effective_rs,\n",
    "    \"5\": string_times_x(\"4\", 3),\n",
    "    \"9\": axis_ratios,\n",
    "    \"10\": position_angles\n",
    "})"
   ]
  },
  {
   "cell_type": "code",
   "execution_count": 76,
   "metadata": {},
   "outputs": [
    {
     "name": "stdout",
     "output_type": "stream",
     "text": [
      "1) 100.0,100.0,100.0                   2    cheb       # Position x [pixel]\n",
      "2) 100.0,100.0,100.0                   3    cheb       # Position y [pixel]\n",
      "3) 14.022123,14.107952,14.922325       2    cheb       # Integrated magnitude\n",
      "4) 25.440218,30.087149,24.733025       3    cheb       # R_e (effective radius) [pix]\n",
      "5) 4,4,4                               1    cheb       # Sersic index n (de Vaucouleurs n=4)\n",
      "9) 0.6433851,0.7046503,0.7636552       4    cheb       # Axis ratio (b/a)\n",
      "10) 15.269562,23.058279,32.80171        5    cheb       # Position angle (PA) [deg: Up=0, Left=90]\n",
      "Z) 0                                                   # Skip this model in output image? (yes=1, no=0)\n"
     ]
    }
   ],
   "source": [
    "pyg.set_component(\"sersic\", {\n",
    "    \"1\": string_times_x(cut_size / 2, 3),\n",
    "    \"2\": string_times_x(cut_size / 2, 3), \n",
    "    \"3\": mags, \n",
    "    \"4\": effective_rs,\n",
    "    \"5\": string_times_x(\"4\", 3),\n",
    "    \"9\": axis_ratios,\n",
    "    \"10\": position_angles\n",
    "})\n",
    "\n",
    "pyg.set_component(\"sersic\", {\n",
    "    \"1\": 2,\n",
    "    \"2\": 3, \n",
    "    \"3\": 2, \n",
    "    \"4\": 3,\n",
    "    \"5\": 1,\n",
    "    \"9\": 4,\n",
    "    \"10\": 5\n",
    "}, column=2)\n",
    "\n",
    "pyg.set_component(\"sersic\", {\n",
    "    \"1\": \"cheb\",\n",
    "    \"2\": \"cheb\", \n",
    "    \"3\": \"cheb\", \n",
    "    \"4\": \"cheb\",\n",
    "    \"5\": \"cheb\",\n",
    "    \"9\": \"cheb\",\n",
    "    \"10\": \"cheb\"\n",
    "}, column=3)\n",
    "\n",
    "pyg.print_component(\"sersic\")"
   ]
  },
  {
   "cell_type": "code",
   "execution_count": 77,
   "metadata": {},
   "outputs": [
    {
     "name": "stdout",
     "output_type": "stream",
     "text": [
      "1) 100.0,100.0,100.0                   2    cheb       # Position x [pixel]\n",
      "2) 100.0,100.0,100.0                   3    cheb       # Position y [pixel]\n",
      "3) 14.022123,14.107952,14.922325       2    cheb       # Integrated magnitude\n",
      "4) 25.440218,30.087149,24.733025       3    cheb       # R_e (effective radius) [pix]\n",
      "5) 4,4,4                               1    cheb       # Sersic index n (de Vaucouleurs n=4)\n",
      "9) 0.6433851,0.7046503,0.7636552       4    cheb       # Axis ratio (b/a)\n",
      "10) 15.269562,23.058279,32.80171        5    cheb       # Position angle (PA) [deg: Up=0, Left=90]\n",
      "Z) 0                                                   # Skip this model in output image? (yes=1, no=0)\n"
     ]
    }
   ],
   "source": [
    "pyg.print_component(\"sersic\")"
   ]
  },
  {
   "cell_type": "code",
   "execution_count": 20,
   "metadata": {},
   "outputs": [],
   "source": [
    "pyg.active_components = [\"sersic\"]"
   ]
  },
  {
   "cell_type": "code",
   "execution_count": 21,
   "metadata": {},
   "outputs": [],
   "source": [
    "pyg.write_feedme()"
   ]
  },
  {
   "cell_type": "code",
   "execution_count": 22,
   "metadata": {},
   "outputs": [
    {
     "name": "stdout",
     "output_type": "stream",
     "text": [
      "b'\\nGALFITM Version galfitm-1.4.4\\n(based on GALFIT Version 3.0.5)\\n\\n\\n#  Input menu file: galfit.feedme\\n\\n================================================================================\\n# IMAGE and GALFIT CONTROL PARAMETERS\\nA) data/ari_test_i.fits,data/ari_test_r.fits,data/ari_test_g.fits      # Input data image (FITS file)\\nA1) i,r,g              # Band labels\\nA2) 7625.00,6231.00,4770.00     # Band wavelengths\\nB) outputs/ari_testss.fits      # Output data image block\\nC) none,none,none 0.000   # Sigma image and min. sigma factor (made from data if blank or \"none\") \\nD) data/psf_ari_test_i.fits,data/psf_ari_test_r.fits,data/psf_ari_test_g.fits #        # Input PSF image and (optional) diffusion kernel\\nE) 1                   # PSF fine sampling factor relative to data \\nF) none,none,none      # Bad pixel mask (FITS image or ASCII coord list)\\nG) none                # File with parameter constraints (ASCII file) \\nH) 1    200  1    200  # Image region to fit (xmin xmax ymin ymax)\\nI) 200    200          # Size of the convolution box (x y)\\nJ) 23.344,23.535,23.490      # Magnitude photometric zeropoint \\nK) 0.550  0.550        # Plate scale (dx dy)   [arcsec per pixel]\\nO) regular             # Display type (regular, curses, both)\\nP) 0                   # Choose: 0=optimize, 1=model, 2=imgblock, 3=subcomps\\nU) 0 0.750000 25 4 40 0.000000 1.000000  # Non-parametric component settings\\nV) 0 0 50 0.800000 0.500000 100000   # MultiNest options\\nW) blank,input,model,residual      # Output options\\n\\n# INITIAL CHEBYSHEV FITTING PARAMETERS\\n#\\n#   For component type, the allowed functions are: \\n#       sersic, expdisk, edgedisk, devauc, king, nuker, psf, \\n#       gaussian, moffat, ferrer, corser, and sky. \\n#  \\n#   Hidden parameters will only appear when they\\'re specified:\\n#       Bn (n=integer, Bending Modes).\\n#       C0 (diskyness/boxyness), \\n#       Fn (n=integer, Azimuthal Fourier Modes).\\n#       R0-R10 (coordinate rotation, for creating spiral structures).\\n#       To, Ti, T0-T10 (truncation function).\\n# \\n# ------------------------------------------------------------------------------\\n#   par)    par value(s)    fit toggle(s)    # parameter description \\n# ------------------------------------------------------------------------------\\n\\n# Component number: 1\\n 0) sersic                 #  Component type\\n 1) 100.000,0,9.474e-15    1,0,0               cheb #      Position x\\n 2) 100.000,0,9.474e-15    1,0,0               cheb #      Position y\\n 3) 14.295,-0.450,0.177    1,1,1               cheb #  Integrated magnitude \\n 4) 27.584,0.354,0    1,1,0               cheb #  R_e (effective radius)   [pix]\\n 5) 4.000,4.441e-16,0    1,1,0               cheb #  Sersic index n (de Vaucouleurs n=4) \\n 6) 0,0,0             0,0,0               cheb #     ----- \\n 7) 0,0,0             0,0,0               cheb #     ----- \\n 8) 0,0,0             0,0,0               cheb #     ----- \\n 9) 0.705,-6.014e-02,-1.271e-03    1,0,0               cheb #  Axis ratio (b/a)  \\n10) 23.650,-8.766,0.386    1,0,0               cheb #  Position angle (PA) [deg: Up=0, Left=90]\\n Z) 0                      #  Skip this model in output image?  (yes=1, no=0)\\n\\n================================================================================\\n\\n# INITIAL BAND FITTING PARAMETERS\\n#\\n#   For component type, the allowed functions are: \\n#       sersic, expdisk, edgedisk, devauc, king, nuker, psf, \\n#       gaussian, moffat, ferrer, corser, and sky. \\n#  \\n#   Hidden parameters will only appear when they\\'re specified:\\n#       Bn (n=integer, Bending Modes).\\n#       C0 (diskyness/boxyness), \\n#       Fn (n=integer, Azimuthal Fourier Modes).\\n#       R0-R10 (coordinate rotation, for creating spiral structures).\\n#       To, Ti, T0-T10 (truncation function).\\n# \\n# ------------------------------------------------------------------------------\\n#   par)    par value(s)    fit toggle(s)    # parameter description \\n# ------------------------------------------------------------------------------\\n\\n# Component number: 1\\n 0) sersic                 #  Component type\\n 1) 100.000,100.000,100.000    1,0,0               band #      Position x\\n 2) 100.000,100.000,100.000    1,0,0               band #      Position y\\n 3) 14.022,14.108,14.922    1,1,1               band #  Integrated magnitude \\n 4) 27.938,27.592,27.231    1,1,0               band #  R_e (effective radius)   [pix]\\n 5) 4.000,4.000,4.000    1,1,0               band #  Sersic index n (de Vaucouleurs n=4) \\n 6) 0,0,0             0,0,0               band #     ----- \\n 7) 0,0,0             0,0,0               band #     ----- \\n 8) 0,0,0             0,0,0               band #     ----- \\n 9) 0.643,0.705,0.764    1,0,0               band #  Axis ratio (b/a)  \\n10) 15.270,23.058,32.802    1,0,0               band #  Position angle (PA) [deg: Up=0, Left=90]\\n Z) 0                      #  Skip this model in output image?  (yes=1, no=0)\\n\\n================================================================================\\n\\n\\n\\n-- No constraint file found.\\n\\n\\n\\n-- No CCD charge diffusion kernel found or applied.\\n\\n\\n-- WARNING: No valid pixel mask images found.\\n            Using blank pixel masks.\\n\\n-- No sigma image for band i.\\n   Creating one using: GAIN=131.76, RDNOISE=0.00, NCOMBINE=3.0.\\n-- No sigma image for band r.\\n   Creating one using: GAIN=114.60, RDNOISE=0.00, NCOMBINE=3.0.\\n-- No sigma image for band g.\\n   Creating one using: GAIN=94.64, RDNOISE=0.00, NCOMBINE=3.0.\\n\\n-- WARNING: No sigma images found.\\n            Calculating from data and supplied parameters.\\n\\n\\n-- Estimating the sky mean and RMS to generate an internal sigma image.  This\\n   estimate won\\'t work right if the product ADUxGAIN has a unit other than \\n   [electrons] (e.g. MJy/sr or e-/sec). To turn off this feature, start by:   \\n                 galfit -noskyest <filename>  \\n   For other options, do:  \\n                 galfit -help  \\n\\ni: Est\\'d sky mean = 0.11, RMS = 0.20 ADUs.  (Are these fairly reasonable?)\\nApplying a minimum sigma of 0.000 times the input image\\nr: Est\\'d sky mean = 0.10, RMS = 0.17 ADUs.  (Are these fairly reasonable?)\\nApplying a minimum sigma of 0.000 times the input image\\ng: Est\\'d sky mean = 0.06, RMS = 0.13 ADUs.  (Are these fairly reasonable?)\\nApplying a minimum sigma of 0.000 times the input image\\n\\n================================================================================\\nInitial parameters for 1 components:\\n i  : sersic    : (  100.00,   100.00)   14.02     27.94    4.00    0.64    15.27\\n r  : sersic    : (  100.00,   100.00)   14.11     27.59    4.00    0.70    23.06\\n g  : sersic    : (  100.00,   100.00)   14.92     27.23    4.00    0.76    32.80\\n================================================================================\\n\\nImproved chisq\\n\\nIteration : 1     Chi2nu: 2.04092e+00   dChi2/Chi2: -4.08e+21   alamda: 1e-03     \\ndelchi2/sqrt(chi2nu): 7.00e+26    avghist: 0.00e+00  \\n i  : sersic    : (  100.06,   100.11)   13.41     59.71    3.76    0.83    34.46\\n r  : sersic    : (  100.06,   100.11)   13.67     53.45    3.27    0.90    42.25\\n g  : sersic    : (  100.06,   100.11)   14.48     46.90    2.77    0.95    51.99\\nCOUNTDOWN = 499 \\n\\nPA wrapped for comp 1 (objtype: sersic ): 112.33 to -67.67\\nImproved chisq\\n\\nIteration : 2     Chi2nu: 1.66736e+00   dChi2/Chi2: -2.24e-01   alamda: 1e-04     \\ndelchi2/sqrt(chi2nu): 3.47e+04    avghist: 3.47e+04  \\n i  : sersic    : (  100.27,   100.44)   13.39     52.48    1.26    0.67   -76.05\\n r  : sersic    : (  100.27,   100.44)   13.73     45.50    1.24    0.74   -68.27\\n g  : sersic    : (  100.27,   100.44)   14.45     38.18    1.22    0.79   -58.52\\nCOUNTDOWN = 498 \\n\\nPA wrapped for comp 1 (objtype: sersic ): -107.27 to 72.73\\nOne or more parameters tried to exceed hard limits\\nParameter(s) constrained by hard limits or user-specified constraint(s)\\nImproved chisq\\nconstr_alamda_factor: 1000.000\\n\\nIteration : 3     Chi2nu: 1.56415e+00   dChi2/Chi2: -6.60e-02   alamda: 1e-01     \\ndelchi2/sqrt(chi2nu): 9.90e+03    avghist: 2.23e+04  \\n i  : sersic    : (  101.28,   101.90)   13.52     38.24    1.61    0.67    64.35\\n r  : sersic    : (  101.28,   101.90)   13.81     36.99    1.62    0.74    72.14\\n g  : sersic    : (  101.28,   101.90)   14.44     35.69    1.63    0.79    81.89\\nCOUNTDOWN = 497 \\n\\nImproved chisq\\n\\nIteration : 4     Chi2nu: 1.38557e+00   dChi2/Chi2: -1.29e-01   alamda: 1e-02     \\ndelchi2/sqrt(chi2nu): 1.82e+04    avghist: 2.09e+04  \\n i  : sersic    : (  101.15,   101.64)   13.61     42.00    1.36    0.63    56.85\\n r  : sersic    : (  101.15,   101.64)   13.88     40.42    1.43    0.69    64.64\\n g  : sersic    : (  101.15,   101.64)   14.50     38.77    1.50    0.75    74.39\\nCOUNTDOWN = 496 \\n\\nImproved chisq\\n\\nIteration : 5     Chi2nu: 1.37588e+00   dChi2/Chi2: -7.04e-03   alamda: 1e-03     \\ndelchi2/sqrt(chi2nu): 9.92e+02    avghist: 1.60e+04  \\n i  : sersic    : (  101.04,   101.45)   13.60     45.15    1.34    0.57    56.89\\n r  : sersic    : (  101.04,   101.45)   13.86     43.85    1.43    0.63    64.68\\n g  : sersic    : (  101.04,   101.45)   14.46     42.48    1.54    0.69    74.42\\nCOUNTDOWN = 495 \\n\\nImproved chisq\\n\\nIteration : 6     Chi2nu: 1.37546e+00   dChi2/Chi2: -3.07e-04   alamda: 1e-04     \\ndelchi2/sqrt(chi2nu): 4.32e+01    avghist: 1.28e+04  \\n i  : sersic    : (  101.01,   101.40)   13.59     46.05    1.34    0.56    56.64\\n r  : sersic    : (  101.01,   101.40)   13.84     45.00    1.45    0.62    64.43\\n g  : sersic    : (  101.01,   101.40)   14.44     43.89    1.56    0.68    74.17\\nCOUNTDOWN = 494 \\n\\nImproved chisq\\n\\nIteration : 7     Chi2nu: 1.37545e+00   dChi2/Chi2: -9.92e-06   alamda: 1e-05     \\ndelchi2/sqrt(chi2nu): 1.40e+00    avghist: 1.06e+04  \\n i  : sersic    : (  101.00,   101.39)   13.59     46.18    1.35    0.56    56.62\\n r  : sersic    : (  101.00,   101.39)   13.84     45.17    1.45    0.62    64.40\\n g  : sersic    : (  101.00,   101.39)   14.44     44.11    1.57    0.68    74.15\\nCOUNTDOWN = 20 \\n\\nImproved chisq\\n\\nIteration : 8     Chi2nu: 1.37545e+00   dChi2/Chi2: -9.09e-08   alamda: 1e-06     \\ndelchi2/sqrt(chi2nu): 1.28e-02    avghist: 9.12e+03  \\n i  : sersic    : (  101.00,   101.39)   13.59     46.19    1.35    0.56    56.61\\n r  : sersic    : (  101.00,   101.39)   13.84     45.18    1.45    0.62    64.40\\n g  : sersic    : (  101.00,   101.39)   14.43     44.13    1.57    0.68    74.15\\nCOUNTDOWN = 19 \\n\\nImproved chisq\\n\\nIteration : 9     Chi2nu: 1.37545e+00   dChi2/Chi2: -7.19e-09   alamda: 1e-07     \\ndelchi2/sqrt(chi2nu): 1.01e-03    avghist: 7.98e+03  \\n i  : sersic    : (  101.00,   101.39)   13.59     46.19    1.35    0.56    56.61\\n r  : sersic    : (  101.00,   101.39)   13.84     45.19    1.45    0.62    64.40\\n g  : sersic    : (  101.00,   101.39)   14.43     44.13    1.57    0.68    74.14\\nCOUNTDOWN = 18 \\n\\nImproved chisq\\n\\nIteration : 10    Chi2nu: 1.37545e+00   dChi2/Chi2: -1.07e-09   alamda: 1e-08     \\ndelchi2/sqrt(chi2nu): 1.50e-04    avghist: 7.09e+03  \\n i  : sersic    : (  101.00,   101.39)   13.59     46.19    1.35    0.56    56.61\\n r  : sersic    : (  101.00,   101.39)   13.84     45.19    1.45    0.62    64.40\\n g  : sersic    : (  101.00,   101.39)   14.43     44.13    1.57    0.68    74.14\\nCOUNTDOWN = 17 \\n\\nImproved chisq\\n\\nIteration : 11    Chi2nu: 1.37545e+00   dChi2/Chi2: -1.86e-10   alamda: 1e-09     \\ndelchi2/sqrt(chi2nu): 2.62e-05    avghist: 6.39e+03  \\n i  : sersic    : (  101.00,   101.39)   13.59     46.19    1.35    0.56    56.61\\n r  : sersic    : (  101.00,   101.39)   13.84     45.19    1.45    0.62    64.40\\n g  : sersic    : (  101.00,   101.39)   14.43     44.13    1.57    0.68    74.14\\nCOUNTDOWN = 16 \\n\\nImproved chisq\\n\\nIteration : 12    Chi2nu: 1.37545e+00   dChi2/Chi2: -3.48e-11   alamda: 1e-10     \\ndelchi2/sqrt(chi2nu): 4.89e-06    avghist: 2.91e+03  \\n i  : sersic    : (  101.00,   101.39)   13.59     46.19    1.35    0.56    56.61\\n r  : sersic    : (  101.00,   101.39)   13.84     45.19    1.45    0.62    64.40\\n g  : sersic    : (  101.00,   101.39)   14.43     44.13    1.57    0.68    74.14\\nCOUNTDOWN = 15 \\n\\nImproved chisq\\n\\nIteration : 13    Chi2nu: 1.37545e+00   dChi2/Chi2: -6.34e-12   alamda: 1e-11     \\ndelchi2/sqrt(chi2nu): 8.92e-07    avghist: 1.92e+03  \\n i  : sersic    : (  101.00,   101.39)   13.59     46.19    1.35    0.56    56.61\\n r  : sersic    : (  101.00,   101.39)   13.84     45.19    1.45    0.62    64.40\\n g  : sersic    : (  101.00,   101.39)   14.43     44.13    1.57    0.68    74.14\\nCOUNTDOWN = 14 \\n\\nImproved chisq\\n\\nIteration : 14    Chi2nu: 1.37545e+00   dChi2/Chi2: -1.20e-12   alamda: 1e-12     \\ndelchi2/sqrt(chi2nu): 1.69e-07    avghist: 1.04e+02  \\n i  : sersic    : (  101.00,   101.39)   13.59     46.19    1.35    0.56    56.61\\n r  : sersic    : (  101.00,   101.39)   13.84     45.19    1.45    0.62    64.40\\n g  : sersic    : (  101.00,   101.39)   14.43     44.13    1.57    0.68    74.14\\nCOUNTDOWN = 13 \\n\\nImproved chisq\\n\\nIteration : 15    Chi2nu: 1.37545e+00   dChi2/Chi2: -2.09e-13   alamda: 1e-13     \\ndelchi2/sqrt(chi2nu): 2.94e-08    avghist: 4.46e+00  \\n i  : sersic    : (  101.00,   101.39)   13.59     46.19    1.35    0.56    56.61\\n r  : sersic    : (  101.00,   101.39)   13.84     45.19    1.45    0.62    64.40\\n g  : sersic    : (  101.00,   101.39)   14.43     44.13    1.57    0.68    74.14\\nCOUNTDOWN = 12 \\n\\nImproved chisq\\n\\nIteration : 16    Chi2nu: 1.37545e+00   dChi2/Chi2: -6.00e-14   alamda: 1e-14     \\ndelchi2/sqrt(chi2nu): 8.44e-09    avghist: 1.41e-01  \\n i  : sersic    : (  101.00,   101.39)   13.59     46.19    1.35    0.56    56.61\\n r  : sersic    : (  101.00,   101.39)   13.84     45.19    1.45    0.62    64.40\\n g  : sersic    : (  101.00,   101.39)   14.43     44.13    1.57    0.68    74.14\\nCOUNTDOWN = 11 \\n\\nWorse chisq, increasing alamda by factor of 10 -> next step smaller\\n\\nIteration : 17    Chi2nu: 1.37545e+00   dChi2/Chi2: 0.00e+00    alamda: 1e-13     \\ndelchi2/sqrt(chi2nu): 0.00e+00    avghist: 1.40e-03  \\n i  : sersic    : (  101.00,   101.39)   13.59     46.19    1.35    0.56    56.61\\n r  : sersic    : (  101.00,   101.39)   13.84     45.19    1.45    0.62    64.40\\n g  : sersic    : (  101.00,   101.39)   14.43     44.13    1.57    0.68    74.14\\nCOUNTDOWN = 10 \\n\\nWorse chisq, increasing alamda by factor of 10 -> next step smaller\\n\\nIteration : 18    Chi2nu: 1.37545e+00   dChi2/Chi2: 0.00e+00    alamda: 1e-12     \\ndelchi2/sqrt(chi2nu): 0.00e+00    avghist: 1.19e-04  \\n i  : sersic    : (  101.00,   101.39)   13.59     46.19    1.35    0.56    56.61\\n r  : sersic    : (  101.00,   101.39)   13.84     45.19    1.45    0.62    64.40\\n g  : sersic    : (  101.00,   101.39)   14.43     44.13    1.57    0.68    74.14\\nCOUNTDOWN = 9 \\n\\nWorse chisq, increasing alamda by factor of 10 -> next step smaller\\n\\nIteration : 19    Chi2nu: 1.37545e+00   dChi2/Chi2: 0.00e+00    alamda: 1e-11     \\ndelchi2/sqrt(chi2nu): 0.00e+00    avghist: 1.83e-05  \\n i  : sersic    : (  101.00,   101.39)   13.59     46.19    1.35    0.56    56.61\\n r  : sersic    : (  101.00,   101.39)   13.84     45.19    1.45    0.62    64.40\\n g  : sersic    : (  101.00,   101.39)   14.43     44.13    1.57    0.68    74.14\\nCOUNTDOWN = 8 \\n\\nWorse chisq, increasing alamda by factor of 10 -> next step smaller\\n\\nIteration : 20    Chi2nu: 1.37545e+00   dChi2/Chi2: 0.00e+00    alamda: 1e-10     \\ndelchi2/sqrt(chi2nu): 0.00e+00    avghist: 3.22e-06  \\n i  : sersic    : (  101.00,   101.39)   13.59     46.19    1.35    0.56    56.61\\n r  : sersic    : (  101.00,   101.39)   13.84     45.19    1.45    0.62    64.40\\n g  : sersic    : (  101.00,   101.39)   14.43     44.13    1.57    0.68    74.14\\nCOUNTDOWN = 7 \\n\\nWorse chisq, increasing alamda by factor of 10 -> next step smaller\\n\\nIteration : 21    Chi2nu: 1.37545e+00   dChi2/Chi2: 0.00e+00    alamda: 1e-09     \\ndelchi2/sqrt(chi2nu): 0.00e+00    avghist: 5.99e-07  \\n i  : sersic    : (  101.00,   101.39)   13.59     46.19    1.35    0.56    56.61\\n r  : sersic    : (  101.00,   101.39)   13.84     45.19    1.45    0.62    64.40\\n g  : sersic    : (  101.00,   101.39)   14.43     44.13    1.57    0.68    74.14\\nCOUNTDOWN = 6 \\n\\nWorse chisq, increasing alamda by factor of 10 -> next step smaller\\n\\nIteration : 22    Chi2nu: 1.37545e+00   dChi2/Chi2: 0.00e+00    alamda: 1e-08     \\ndelchi2/sqrt(chi2nu): 0.00e+00    avghist: 1.10e-07  \\n i  : sersic    : (  101.00,   101.39)   13.59     46.19    1.35    0.56    56.61\\n r  : sersic    : (  101.00,   101.39)   13.84     45.19    1.45    0.62    64.40\\n g  : sersic    : (  101.00,   101.39)   14.43     44.13    1.57    0.68    74.14\\nCOUNTDOWN = 5 \\n\\nWorse chisq, increasing alamda by factor of 10 -> next step smaller\\n\\nIteration : 23    Chi2nu: 1.37545e+00   dChi2/Chi2: 0.00e+00    alamda: 1e-07     \\ndelchi2/sqrt(chi2nu): 0.00e+00    avghist: 2.07e-08  \\n i  : sersic    : (  101.00,   101.39)   13.59     46.19    1.35    0.56    56.61\\n r  : sersic    : (  101.00,   101.39)   13.84     45.19    1.45    0.62    64.40\\n g  : sersic    : (  101.00,   101.39)   14.43     44.13    1.57    0.68    74.14\\nCOUNTDOWN = 4 \\n\\nWorse chisq, increasing alamda by factor of 10 -> next step smaller\\n\\nIteration : 24    Chi2nu: 1.37545e+00   dChi2/Chi2: 0.00e+00    alamda: 1e-06     \\ndelchi2/sqrt(chi2nu): 0.00e+00    avghist: 3.79e-09  \\n i  : sersic    : (  101.00,   101.39)   13.59     46.19    1.35    0.56    56.61\\n r  : sersic    : (  101.00,   101.39)   13.84     45.19    1.45    0.62    64.40\\n g  : sersic    : (  101.00,   101.39)   14.43     44.13    1.57    0.68    74.14\\nCOUNTDOWN = 3 \\n\\nWorse chisq, increasing alamda by factor of 10 -> next step smaller\\n\\nIteration : 25    Chi2nu: 1.37545e+00   dChi2/Chi2: 0.00e+00    alamda: 1e-05     \\ndelchi2/sqrt(chi2nu): 0.00e+00    avghist: 8.44e-10  \\n i  : sersic    : (  101.00,   101.39)   13.59     46.19    1.35    0.56    56.61\\n r  : sersic    : (  101.00,   101.39)   13.84     45.19    1.45    0.62    64.40\\n g  : sersic    : (  101.00,   101.39)   14.43     44.13    1.57    0.68    74.14\\nCOUNTDOWN = 2 \\n\\nWorse chisq, increasing alamda by factor of 10 -> next step smaller\\n\\nIteration : 26    Chi2nu: 1.37545e+00   dChi2/Chi2: 0.00e+00    alamda: 1e-04     \\ndelchi2/sqrt(chi2nu): 0.00e+00    avghist: 0.00e+00  \\n i  : sersic    : (  101.00,   101.39)   13.59     46.19    1.35    0.56    56.61\\n r  : sersic    : (  101.00,   101.39)   13.84     45.19    1.45    0.62    64.40\\n g  : sersic    : (  101.00,   101.39)   14.43     44.13    1.57    0.68    74.14\\nCOUNTDOWN = 1 \\n\\nWorse chisq, increasing alamda by factor of 10 -> next step smaller\\n\\nIteration : 27    Chi2nu: 1.37545e+00   dChi2/Chi2: 0.00e+00    alamda: 1e-03     \\ndelchi2/sqrt(chi2nu): 0.00e+00    avghist: 0.00e+00  \\n i  : sersic    : (  101.00,   101.39)   13.59     46.19    1.35    0.56    56.61\\n r  : sersic    : (  101.00,   101.39)   13.84     45.19    1.45    0.62    64.40\\n g  : sersic    : (  101.00,   101.39)   14.43     44.13    1.57    0.68    74.14\\nCOUNTDOWN = 0 \\n\\n\\n\\nFit summary is now being saved into `fit.log\\'.\\n\\n\\x07'\n"
     ]
    }
   ],
   "source": [
    "_ = pyg.run()"
   ]
  },
  {
   "cell_type": "code",
   "execution_count": 53,
   "metadata": {},
   "outputs": [
    {
     "data": {
      "text/plain": [
       "tuple"
      ]
     },
     "execution_count": 53,
     "metadata": {},
     "output_type": "execute_result"
    }
   ],
   "source": [
    "type((1, 2, 3))"
   ]
  },
  {
   "cell_type": "code",
   "execution_count": 69,
   "metadata": {},
   "outputs": [],
   "source": [
    "import os\n",
    "\n",
    "class PyGalfitm:\n",
    "    def __init__(self):\n",
    "        self.feedme_path = \"galfit.feedme\"\n",
    "        self.executable = \"./new_tests/galfitm-1.4.4-osx\"\n",
    "\n",
    "        self.base = {\n",
    "            \"A\": {\"value\": \"\", \"comment\": \"Input data image (FITS file)\"},\n",
    "            \"A1\": {\"value\": \"g, r, i\", \"comment\": \"Nick names (band labels) \"},\n",
    "            \"A2\": {\"value\": \"4770, 6231, 7625\", \"comment\": \"Effective wavelenghts\"}, \n",
    "            \"B\": {\"value\": \"4770, 6231, 7625\", \"comment\": \"Output data image block\"}, \n",
    "            \"C\": {\"value\": \"\", \"comment\": \"Sigma image name (made from data if blank or 'none')\"},\n",
    "            \"D\": {\"value\": \"\", \"comment\": \"Input PSF image and (optional) diffusion kernel\"}, \n",
    "            \"E\": {\"value\": \"1\", \"comment\": \"PSF fine sampling factor relative to data \"}, \n",
    "            \"F\": {\"value\": \"none\", \"comment\": \"Bad pixel mask (FITS image or ASCII coord list)\"}, \n",
    "            \"G\": {\"value\": \"none\", \"comment\": \"File with parameter constraints (ASCII file) \"},\n",
    "            \"H\": {\"value\": \"1    200  1  200\", \"comment\": \"Image region to fit (xmin xmax ymin ymax)\"},\n",
    "            \"I\": {\"value\": \"200  200\", \"comment\": \"Size of the convolution box (x y)\"},\n",
    "            \"J\": {\"value\": \"0,0,0\", \"comment\": \"Magnitude photometric zeropoint\"},\n",
    "            \"K\": {\"value\": \"0.55  0.55\", \"comment\": \"Plate scale (dx dy)   [arcsec per pixel]\"},\n",
    "            \"O\": {\"value\": \"regular\", \"comment\": \"Display type (regular, curses, both)\"}, \n",
    "            \"P\": {\"value\": \"0\", \"comment\": \"Choose: 0=optimize, 1=model, 2=imgblock, 3=subcomps\"}, \n",
    "            \"U\": {\"value\": \"0\", \"comment\": \"\"}\n",
    "        }\n",
    "\n",
    "        self.components_config = {\n",
    "            \"sky\" : {\n",
    "                \"1\": {\"col1\": \"BKGG,BKGR,BKGI\", \"col2\": \"0\", \"col3\": \"band\", \"comment\": \"Sky background at center of fitting region [ADUs]\"},\n",
    "                \"2\": {\"col1\": \"0,0,0\", \"col2\": \"0\", \"col3\": \"band\", \"comment\": \"dsky/dx (sky gradient in x) [ADUs/pix]\"},\n",
    "                \"3\": {\"col1\": \"0,0,0\", \"col2\": \"0\", \"col3\": \"band\", \"comment\": \"dsky/dy (sky gradient in y) [ADUs/pix]\"},\n",
    "                \"Z\": {\"col1\": \"0\", \"col2\": \"\", \"col3\": \"\", \"comment\": \"Skip this model in output image? (yes=1, no=0)\"}\n",
    "            },\n",
    "            \"sersic\" : {\n",
    "                \"1\":  {\"col1\": \"200.0,200.0,200.0\", \"col2\": \"1\", \"col3\": \"band\", \"comment\": \"Position x [pixel]\"},\n",
    "                \"2\":  {\"col1\": \"200.0,200.0,200.0\", \"col2\": \"1\", \"col3\": \"band\", \"comment\": \"Position y [pixel]\"},\n",
    "                \"3\":  {\"col1\": \"0,0,0\", \"col2\": \"3\", \"col3\": \"band\", \"comment\": \"Integrated magnitude\"},\n",
    "                \"4\":  {\"col1\": \"0,0,0\", \"col2\": \"2\", \"col3\": \"band\", \"comment\": \"R_e (effective radius) [pix]\"},\n",
    "                \"5\":  {\"col1\": \"4\", \"col2\": \"2\", \"col3\": \"band\", \"comment\": \"Sersic index n (de Vaucouleurs n=4)\"},\n",
    "                \"9\":  {\"col1\": \"0,0,0\", \"col2\": \"1\", \"col3\": \"band\", \"comment\": \"Axis ratio (b/a)\"},\n",
    "                \"10\": {\"col1\": \"0,0,0\", \"col2\": \"1\", \"col3\": \"band\", \"comment\": \"Position angle (PA) [deg: Up=0, Left=90]\"},\n",
    "                \"Z\":  {\"col1\": \"0\", \"col2\": \"\", \"col3\": \"\", \"comment\": \"Skip this model in output image? (yes=1, no=0)\"}\n",
    "            },\n",
    "            \"expdisk\" : {\n",
    "                \"1\":  {\"col1\": \"300\", \"col2\": \"1\", \"col3\": \"band\", \"comment\": \"Position x [pixel]\"},\n",
    "                \"2\":  {\"col1\": \"357.4\", \"col2\": \"1\", \"col3\": \"band\", \"comment\": \"Position y [pixel]\"},\n",
    "                \"3\":  {\"col1\": \"0,0,0\", \"col2\": \"3\", \"col3\": \"band\", \"comment\": \"Integrated magnitude\"},\n",
    "                \"4\":  {\"col1\": \"0,0,0\", \"col2\": \"2\", \"col3\": \"band\", \"comment\": \"R_s (disk scale lengths) [pix]\"},\n",
    "                \"9\":  {\"col1\": \"0,0,0\", \"col2\": \"1\", \"col3\": \"band\", \"comment\": \"Axis ratio (b/a)\"},\n",
    "                \"10\": {\"col1\": \"0,0,0\", \"col2\": \"1\", \"col3\": \"band\", \"comment\": \"Position angle (PA) [deg: Up=0, Left=90]\"},\n",
    "                \"Z\":  {\"col1\": \"0\", \"col2\": \"\", \"col3\": \"\", \"comment\": \"Skip this model in output image? (yes=1, no=0)\"}\n",
    "            },\n",
    "            \"moffat\" : {\n",
    "                \"1\":  {\"col1\": \"300\", \"col2\": \"1\", \"col3\": \"band\", \"comment\": \"Position x [pixel]\"},\n",
    "                \"2\":  {\"col1\": \"357.4\", \"col2\": \"1\", \"col3\": \"band\", \"comment\": \"Position y [pixel]\"},\n",
    "                \"3\":  {\"col1\": \"0,0,0\", \"col2\": \"3\", \"col3\": \"band\", \"comment\": \"Total magnitude\"},\n",
    "                \"4\":  {\"col1\": \"0,0,0\", \"col2\": \"2\", \"col3\": \"band\", \"comment\": \"FWHM\"},\n",
    "                \"5\":  {\"col1\": \"0,0,0\", \"col2\": \"2\", \"col3\": \"band\", \"comment\": \"powerlaw\"},\n",
    "                \"9\":  {\"col1\": \"0,0,0\", \"col2\": \"1\", \"col3\": \"band\", \"comment\": \"Axis ratio (b/a)\"},\n",
    "                \"10\": {\"col1\": \"0,0,0\", \"col2\": \"1\", \"col3\": \"band\", \"comment\": \"Position angle (PA) [deg: Up=0, Left=90]\"},\n",
    "                \"Z\":  {\"col1\": \"0\", \"col2\": \"\", \"col3\": \"\", \"comment\": \"Skip this model in output image? (yes=1, no=0)\"}\n",
    "            },\n",
    "            \"ferrer\" : {\n",
    "                \"1\":  {\"col1\": \"300\", \"col2\": \"1\", \"col3\": \"band\", \"comment\": \"Position x [pixel]\"},\n",
    "                \"2\":  {\"col1\": \"357.4\", \"col2\": \"1\", \"col3\": \"band\", \"comment\": \"Position y [pixel]\"},\n",
    "                \"3\":  {\"col1\": \"0,0,0\", \"col2\": \"3\", \"col3\": \"band\", \"comment\": \"Central surface brghtness [mag/arcsec^2]\"},\n",
    "                \"4\":  {\"col1\": \"0,0,0\", \"col2\": \"2\", \"col3\": \"band\", \"comment\": \"Outer truncation radius  [pix]\"},\n",
    "                \"5\":  {\"col1\": \"0,0,0\", \"col2\": \"2\", \"col3\": \"band\", \"comment\": \"Alpha (outer truncation sharpness) \"},\n",
    "                \"6\":  {\"col1\": \"0,0,0\", \"col2\": \"2\", \"col3\": \"band\", \"comment\": \"Beta (central slope)\"},\n",
    "                \"9\":  {\"col1\": \"0,0,0\", \"col2\": \"1\", \"col3\": \"band\", \"comment\": \"Axis ratio (b/a)\"},\n",
    "                \"10\": {\"col1\": \"0,0,0\", \"col2\": \"1\", \"col3\": \"band\", \"comment\": \"Position angle (PA) [deg: Up=0, Left=90]\"},\n",
    "                \"Z\":  {\"col1\": \"0\", \"col2\": \"\", \"col3\": \"\", \"comment\": \"Skip this model in output image? (yes=1, no=0)\"}\n",
    "            },\n",
    "            \"psf\" : {\n",
    "                \"1\": {\"col1\": \"0,0,0\", \"col2\": \"0\", \"col3\": \"band\", \"comment\": \"position x [pixel]\"},\n",
    "                \"2\": {\"col1\": \"0,0,0\", \"col2\": \"0\", \"col3\": \"band\", \"comment\": \"position y [pixel]\"},\n",
    "                \"3\": {\"col1\": \"0,0,0\", \"col2\": \"0\", \"col3\": \"band\", \"comment\": \"total magnitude \"},\n",
    "                \"Z\": {\"col1\": \"0\", \"col2\": \"\", \"col3\": \"\", \"comment\": \"Skip this model in output image? (yes=1, no=0)\"}\n",
    "            }\n",
    "        }\n",
    "\n",
    "        self.components = [\n",
    "            \"sersic\",\n",
    "            \"expdisk\", \n",
    "            \"moffat\",\n",
    "            \"ferrer\",\n",
    "            \"psf\",\n",
    "            \"sky\"\n",
    "        ]\n",
    "\n",
    "        self.active_components = []\n",
    "\n",
    "\n",
    "    def activate_components(self, component_s = None):\n",
    "        if component_s is None:\n",
    "            self.activate_components = []\n",
    "        if isinstance(component_s, list):\n",
    "            for comp in component_s:\n",
    "                if comp in self.components:\n",
    "                    if comp not in self.active_components:\n",
    "                        self.active_components.append(comp)\n",
    "                else:\n",
    "                    raise Exception(f\"Not valid component - {comp}\")\n",
    "        else:\n",
    "            if component_s in self.components:\n",
    "                if component_s not in self.active_components:\n",
    "                    self.active_components.append(component_s)\n",
    "            else:\n",
    "                raise Exception(f\"Not valid component - {component_s}\")\n",
    "\n",
    "\n",
    "    def set_base(self, item, value=\"\"):\n",
    "        if isinstance(item, dict):\n",
    "            for i in item:\n",
    "                self.base[i][\"value\"] = str(item[i])\n",
    "        else:\n",
    "            if item in self.base:\n",
    "                self.base[item][\"value\"] = str(value)\n",
    "            else:\n",
    "                raise KeyError(\"Parameter not found in galfitm feedme base config.\")\n",
    "        \n",
    "    def set_component(self, component, item = None, value = None, column = 1):\n",
    "        if column in [1, 2, 3]:\n",
    "            column = 'col' + str(column)\n",
    "        else:\n",
    "            raise Exception(\"Column not valid.\")\n",
    "        if component in self.components_config:\n",
    "            \n",
    "            if isinstance(item, dict):\n",
    "                for i in item:\n",
    "                    if isinstance(item[i], tuple):\n",
    "                        if len(item[i]) > 3:\n",
    "                            raise Exception(\"Tuple not valid \" + str(item[i]))\n",
    "                        for key, val in enumerate(item[i]):\n",
    "                            self.components_config[component][i][\"col\" + str(key + 1)] = str(val)\n",
    "                    else:\n",
    "                        self.components_config[component][i][column] = str(item[i])\n",
    "            else:\n",
    "                if item in self.components_config[component]:\n",
    "                    self.components_config[component][item][column] = str(value)\n",
    "        else:\n",
    "            raise KeyError(\"Component not found.\")\n",
    "\n",
    "\n",
    "    def write_feedme(self, feedme_path = None):\n",
    "        if feedme_path is None:\n",
    "            feedme_path = self.feedme_path\n",
    "        self.write_base(feedme_path)\n",
    "\n",
    "        for component in self.active_components:\n",
    "            self.write_component(component, feedme_path)\n",
    "    \n",
    "    def print_component(self, component):\n",
    "        config = self.components_config[component]\n",
    "        if component in self.components_config:\n",
    "            for i in self.components_config[component]:\n",
    "                final = i + \") \" + config[i]['col1'].ljust(35) + \" \" + config[i]['col2'].ljust(5) + config[i]['col3'].ljust(10) + \" # \" + config[i]['comment']\n",
    "                print(final)\n",
    "        else:\n",
    "            raise KeyError(\"Component not found.\")\n",
    "    \n",
    "    def print_base(self):\n",
    "        for param in self.base:\n",
    "            final = str(param) + \") \" + str(self.base[param][\"value\"]).ljust(32) + \" # \" + str(self.base[param][\"comment\"])\n",
    "            print(final)\n",
    "\n",
    "\n",
    "    def write_base(self, feedme_path = None):\n",
    "        if feedme_path is None:\n",
    "            feedme_path = self.feedme_path\n",
    "        file = open(feedme_path, \"w\")\n",
    "        for param in self.base:\n",
    "            final = str(param) + \") \" + str(self.base[param][\"value\"]).ljust(32) + \" # \" + str(self.base[param][\"comment\"]) + \"\\n\"\n",
    "            file.write(final)\n",
    "        file.close()\n",
    "    \n",
    "    def write_component(self, component_name, feedme_path = None):\n",
    "        if feedme_path is None:\n",
    "            feedme_path = self.feedme_path\n",
    "\n",
    "        if component_name in self.active_components:\n",
    "            config = self.components_config[component_name]\n",
    "            f = open(feedme_path, \"a\")\n",
    "            f.write(\"\\n\\n\\n\")\n",
    "\n",
    "            f.write(\"0) \" + component_name + \"\\n\")\n",
    "            for i in self.components_config[component_name]:\n",
    "                final = i + \") \" + config[i]['col1'].ljust(35) + \" \" + config[i]['col2'].ljust(5) + config[i]['col3'].ljust(10) + \" # \" + config[i]['comment'] + \"\\n\"\n",
    "                f.write(final)\n",
    "\n",
    "            f.close()\n",
    "    \n",
    "    def run(self):\n",
    "        import subprocess\n",
    "        output = subprocess.check_output(f'{self.executable} {self.feedme_path}', shell=True).decode(\"UTF-8\")\n",
    "        \n",
    "        return output"
   ]
  },
  {
   "cell_type": "code",
   "execution_count": null,
   "metadata": {},
   "outputs": [],
   "source": []
  }
 ],
 "metadata": {
  "kernelspec": {
   "display_name": "base",
   "language": "python",
   "name": "python3"
  },
  "language_info": {
   "codemirror_mode": {
    "name": "ipython",
    "version": 3
   },
   "file_extension": ".py",
   "mimetype": "text/x-python",
   "name": "python",
   "nbconvert_exporter": "python",
   "pygments_lexer": "ipython3",
   "version": "3.9.12"
  },
  "orig_nbformat": 4,
  "vscode": {
   "interpreter": {
    "hash": "e333ff4aa18f9a0fa07511eb65a6239e0d8f0b6236173c323db3f36e6a940470"
   }
  }
 },
 "nbformat": 4,
 "nbformat_minor": 2
}
