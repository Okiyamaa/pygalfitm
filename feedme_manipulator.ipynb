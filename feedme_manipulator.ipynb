{
 "cells": [
  {
   "cell_type": "code",
   "execution_count": 1,
   "metadata": {},
   "outputs": [],
   "source": [
    "from pygalfitm import PyGalfitm\n",
    "from pygalfitm.VOs import splus\n",
    "from pygalfitm.auxiliars import string_times_x\n",
    "\n",
    "import splusdata"
   ]
  },
  {
   "cell_type": "code",
   "execution_count": 2,
   "metadata": {},
   "outputs": [],
   "source": [
    "ra = 52.430082897775755\t\n",
    "dec = -33.557141932864596\n",
    "cut_size = 200\n",
    "bands = [\"I\", \"R\", \"G\"]"
   ]
  },
  {
   "cell_type": "code",
   "execution_count": 3,
   "metadata": {},
   "outputs": [
    {
     "name": "stdout",
     "output_type": "stream",
     "text": [
      "You have access to internal data\n"
     ]
    }
   ],
   "source": [
    "conn = splusdata.connect(\"gustavo\", \"asdflkjh\")"
   ]
  },
  {
   "cell_type": "code",
   "execution_count": 4,
   "metadata": {},
   "outputs": [],
   "source": [
    "pyg = PyGalfitm() "
   ]
  },
  {
   "cell_type": "code",
   "execution_count": 5,
   "metadata": {},
   "outputs": [],
   "source": [
    "im = conn.get_cut(ra, dec, cut_size, \"R\")"
   ]
  },
  {
   "cell_type": "code",
   "execution_count": null,
   "metadata": {},
   "outputs": [],
   "source": []
  },
  {
   "cell_type": "code",
   "execution_count": 11,
   "metadata": {},
   "outputs": [],
   "source": [
    "\n",
    "pyg.set_base({\n",
    "    \"A\": \"test_imm\",\n",
    "    \"B\": \"\",\n",
    "    \"A2\": \"7625,6231,4770\",\n",
    "    \"H\": f\"1   {cut_size}  1   {cut_size}\",\n",
    "    \"I\": f\"{cut_size} {cut_size}\",\n",
    "    \"J\": f\"ZERO_POINTS\",\n",
    "    \"K\": \"0.55 0.55\"\n",
    "})"
   ]
  },
  {
   "cell_type": "code",
   "execution_count": 12,
   "metadata": {},
   "outputs": [
    {
     "name": "stdout",
     "output_type": "stream",
     "text": [
      "A) test_imm                        # Input data image (FITS file)\n",
      "A1) g, r, i                         # Nick names (band labels) \n",
      "A2) 7625,6231,4770                  # Effective wavelenghts\n",
      "B)                                 # Output data image block\n",
      "C)                                 # Sigma image name (made from data if blank or 'none')\n",
      "D)                                 # Input PSF image and (optional) diffusion kernel\n",
      "E) 1                               # PSF fine sampling factor relative to data \n",
      "F) none                            # Bad pixel mask (FITS image or ASCII coord list)\n",
      "G) none                            # File with parameter constraints (ASCII file) \n",
      "H) 1   200  1   200                # Image region to fit (xmin xmax ymin ymax)\n",
      "I) 200,200,200                     # Size of the convolution box (x y)\n",
      "J) 0,0,0                           # Magnitude photometric zeropoint\n",
      "K) 0.55  0.55                      # Plate scale (dx dy)   [arcsec per pixel]\n",
      "O) regular                         # Display type (regular, curses, both)\n",
      "P) 0                               # Choose: 0=optimize, 1=model, 2=imgblock, 3=subcomps\n",
      "U) 0                               # \n"
     ]
    }
   ],
   "source": [
    "pyg.print_base()"
   ]
  },
  {
   "cell_type": "code",
   "execution_count": 8,
   "metadata": {},
   "outputs": [
    {
     "name": "stdout",
     "output_type": "stream",
     "text": [
      "finished\n",
      "finished\n",
      "finished\n"
     ]
    }
   ],
   "source": [
    "axis_ratios, effective_rs, position_angles, mags = splus.get_sersic_splus(conn, ra, dec, bands)"
   ]
  },
  {
   "cell_type": "code",
   "execution_count": 9,
   "metadata": {},
   "outputs": [
    {
     "name": "stdout",
     "output_type": "stream",
     "text": [
      "1) 100.0,100.0,100.0                   1    band       Position x [pixel]\n",
      "2) 100.0,100.0,100.0                   1    band       Position y [pixel]\n",
      "3) 14.022123,14.107952,14.922325       3    band       Integrated magnitude\n",
      "4) 25.440218,30.087149,24.733025       2    band       R_e (effective radius) [pix]\n",
      "5) 4                                   2    band       Sersic index n (de Vaucouleurs n=4)\n",
      "9) 0.6433851,0.7046503,0.7636552       1    band       Axis ratio (b/a)\n",
      "10) 15.269562,23.058279,32.80171        1    band       Position angle (PA) [deg: Up=0, Left=90]\n",
      "Z) 0                                                   Skip this model in output image? (yes=1, no=0)\n"
     ]
    }
   ],
   "source": [
    "pyg.set_component(\"sersic\", \"1\", string_times_x(cut_size / 2, 3))\n",
    "pyg.set_component(\"sersic\", \"2\", string_times_x(cut_size / 2, 3))\n",
    "pyg.set_component(\"sersic\", \"3\", mags)\n",
    "pyg.set_component(\"sersic\", \"4\", effective_rs)\n",
    "pyg.set_component(\"sersic\", \"9\", axis_ratios)\n",
    "pyg.set_component(\"sersic\", \"10\", position_angles)\n",
    "\n",
    "pyg.print_component(\"sersic\")"
   ]
  },
  {
   "cell_type": "code",
   "execution_count": 10,
   "metadata": {},
   "outputs": [
    {
     "data": {
      "text/plain": [
       "'200,200,200'"
      ]
     },
     "execution_count": 10,
     "metadata": {},
     "output_type": "execute_result"
    }
   ],
   "source": [
    "string_times_x(\"200\", 3)"
   ]
  },
  {
   "cell_type": "code",
   "execution_count": 11,
   "metadata": {},
   "outputs": [
    {
     "name": "stdout",
     "output_type": "stream",
     "text": [
      "1) 100.0,100.0,100.0                   1    band       Position x [pixel]\n",
      "2) 100.0,100.0,100.0                   1    band       Position y [pixel]\n",
      "3) 14.022123,14.107952,14.922325       3    band       Integrated magnitude\n",
      "4) 25.440218,30.087149,24.733025       2    band       R_e (effective radius) [pix]\n",
      "5) 4                                   2    band       Sersic index n (de Vaucouleurs n=4)\n",
      "9) 0.6433851,0.7046503,0.7636552       1    band       Axis ratio (b/a)\n",
      "10) 15.269562,23.058279,32.80171        1    band       Position angle (PA) [deg: Up=0, Left=90]\n",
      "Z) 0                                                   Skip this model in output image? (yes=1, no=0)\n"
     ]
    }
   ],
   "source": [
    "pyg.print_component(\"sersic\")"
   ]
  },
  {
   "cell_type": "code",
   "execution_count": null,
   "metadata": {},
   "outputs": [],
   "source": []
  }
 ],
 "metadata": {
  "kernelspec": {
   "display_name": "base",
   "language": "python",
   "name": "python3"
  },
  "language_info": {
   "codemirror_mode": {
    "name": "ipython",
    "version": 3
   },
   "file_extension": ".py",
   "mimetype": "text/x-python",
   "name": "python",
   "nbconvert_exporter": "python",
   "pygments_lexer": "ipython3",
   "version": "3.9.12"
  },
  "orig_nbformat": 4,
  "vscode": {
   "interpreter": {
    "hash": "e333ff4aa18f9a0fa07511eb65a6239e0d8f0b6236173c323db3f36e6a940470"
   }
  }
 },
 "nbformat": 4,
 "nbformat_minor": 2
}
