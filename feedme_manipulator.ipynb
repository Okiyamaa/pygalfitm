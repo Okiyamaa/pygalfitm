{
 "cells": [
  {
   "cell_type": "code",
   "execution_count": 1,
   "metadata": {},
   "outputs": [],
   "source": [
    "import os"
   ]
  },
  {
   "cell_type": "code",
   "execution_count": 46,
   "metadata": {},
   "outputs": [],
   "source": [
    "class PyGalfitm:\n",
    "    def __init__(self):\n",
    "        self.feedme_path = \"galfit.feedme\"\n",
    "\n",
    "        self.base = {\n",
    "            \"A\": {\"value\": \"\", \"comment\": \"Input data image (FITS file)\"},\n",
    "            \"A1\": {\"value\": \"g, r, i\", \"comment\": \"Nick names (band labels) \"},\n",
    "            \"A2\": {\"value\": \"4770, 6231, 7625\", \"comment\": \"Effective wavelenghts\"}, \n",
    "            \"B\": {\"value\": \"4770, 6231, 7625\", \"comment\": \"Output data image block\"}, \n",
    "            \"C\": {\"value\": \"\", \"comment\": \"Sigma image name (made from data if blank or 'none')\"},\n",
    "            \"D\": {\"value\": \"\", \"comment\": \"Input PSF image and (optional) diffusion kernel\"}, \n",
    "            \"E\": {\"value\": \"1\", \"comment\": \"PSF fine sampling factor relative to data \"}, \n",
    "            \"F\": {\"value\": \"none\", \"comment\": \"Bad pixel mask (FITS image or ASCII coord list)\"}, \n",
    "            \"G\": {\"value\": \"none\", \"comment\": \"File with parameter constraints (ASCII file) \"},\n",
    "            \"H\": {\"value\": \"1    200  1  200\", \"comment\": \"Image region to fit (xmin xmax ymin ymax)\"},\n",
    "            \"I\": {\"value\": \"200  200\", \"comment\": \"Size of the convolution box (x y)\"},\n",
    "            \"J\": {\"value\": \"25.11,24.80,24.36\", \"comment\": \"Magnitude photometric zeropoint\"},\n",
    "            \"K\": {\"value\": \"0.55  0.55\", \"comment\": \"Plate scale (dx dy)   [arcsec per pixel]\"},\n",
    "            \"O\": {\"value\": \"regular\", \"comment\": \"Display type (regular, curses, both)\"}, \n",
    "            \"P\": {\"value\": \"0\", \"comment\": \"Choose: 0=optimize, 1=model, 2=imgblock, 3=subcomps\"}, \n",
    "            \"U\": {\"value\": \"0\", \"comment\": \"\"}\n",
    "        }\n",
    "\n",
    "        self.components = [\n",
    "            \"sersic\",\n",
    "            \"expdisk\", \n",
    "            \"moffat\",\n",
    "            \"ferrer\",\n",
    "            \"psf\",\n",
    "            \"sky\"\n",
    "        ]\n",
    "\n",
    "        self.active_components = []\n",
    "\n",
    "    def activate_components(self, component_s = None):\n",
    "        if component_s is None:\n",
    "            self.activate_components = []\n",
    "        if isinstance(component_s, list):\n",
    "            for comp in component_s:\n",
    "                if comp in self.components:\n",
    "                    if comp not in self.active_components:\n",
    "                        self.active_components.append(comp)\n",
    "                else:\n",
    "                    raise Exception(f\"Not valid component - {comp}\")\n",
    "        else:\n",
    "            if component_s in self.components:\n",
    "                if component_s not in self.activate_components:\n",
    "                    self.active_components.append(component_s)\n",
    "            else:\n",
    "                raise Exception(f\"Not valid component - {comp}\")\n",
    "        \n",
    "\n",
    "    def set_base(self, item, value):\n",
    "        if item in self.base:\n",
    "            self.base[item][\"value\"] = value\n",
    "        else:\n",
    "            raise KeyError(\"Parameter not found in galfit feedme base config.\")\n",
    "\n",
    "    def write_feedme(self, feedme_path = None):\n",
    "        if feedme_path is None:\n",
    "            feedme_path = self.feedme_path\n",
    "        file = open(feedme_path, \"w\")\n",
    "        for param in self.base:\n",
    "            final = str(param) + \") \" + str(self.base[param][\"value\"]).ljust(32) + \"# \" + str(self.base[param][\"comment\"]) + \"\\n\"\n",
    "            file.write(final)\n",
    "        file.close()\n",
    "    \n",
    "    "
   ]
  },
  {
   "cell_type": "code",
   "execution_count": 47,
   "metadata": {},
   "outputs": [],
   "source": [
    "pyg = PyGalfitm()\n",
    "\n",
    "pyg.set_base(\"A\", \"012\")"
   ]
  },
  {
   "cell_type": "code",
   "execution_count": 51,
   "metadata": {},
   "outputs": [],
   "source": [
    "pyg.activate_components([\"sersic\", \"expdisk\"])"
   ]
  },
  {
   "cell_type": "code",
   "execution_count": 39,
   "metadata": {},
   "outputs": [],
   "source": [
    "pyg.write_feedme()"
   ]
  },
  {
   "cell_type": "code",
   "execution_count": 52,
   "metadata": {},
   "outputs": [
    {
     "data": {
      "text/plain": [
       "['sersic', 'sersic', 'sersic', 'expdisk']"
      ]
     },
     "execution_count": 52,
     "metadata": {},
     "output_type": "execute_result"
    }
   ],
   "source": [
    "pyg.active_components"
   ]
  },
  {
   "cell_type": "code",
   "execution_count": null,
   "metadata": {},
   "outputs": [],
   "source": []
  }
 ],
 "metadata": {
  "kernelspec": {
   "display_name": "base",
   "language": "python",
   "name": "python3"
  },
  "language_info": {
   "codemirror_mode": {
    "name": "ipython",
    "version": 3
   },
   "file_extension": ".py",
   "mimetype": "text/x-python",
   "name": "python",
   "nbconvert_exporter": "python",
   "pygments_lexer": "ipython3",
   "version": "3.9.12"
  },
  "orig_nbformat": 4,
  "vscode": {
   "interpreter": {
    "hash": "e333ff4aa18f9a0fa07511eb65a6239e0d8f0b6236173c323db3f36e6a940470"
   }
  }
 },
 "nbformat": 4,
 "nbformat_minor": 2
}
