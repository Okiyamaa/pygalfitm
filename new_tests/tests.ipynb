{
 "cells": [
  {
   "cell_type": "code",
   "execution_count": 1,
   "metadata": {},
   "outputs": [],
   "source": [
    "import os\n",
    "import splusdata"
   ]
  },
  {
   "cell_type": "code",
   "execution_count": 2,
   "metadata": {},
   "outputs": [
    {
     "data": {
      "text/plain": [
       "26880"
      ]
     },
     "execution_count": 2,
     "metadata": {},
     "output_type": "execute_result"
    }
   ],
   "source": [
    "os.system('./galfitm-1.4.4-osx galfit.feedme.template')"
   ]
  },
  {
   "cell_type": "code",
   "execution_count": 3,
   "metadata": {},
   "outputs": [],
   "source": [
    "DATA_FOLDER = 'data'\n",
    "OUTPUT_FOLDER = 'output'"
   ]
  },
  {
   "cell_type": "code",
   "execution_count": 4,
   "metadata": {},
   "outputs": [
    {
     "name": "stdout",
     "output_type": "stream",
     "text": [
      "You have access to internal data\n"
     ]
    }
   ],
   "source": [
    "conn = splusdata.connect()"
   ]
  },
  {
   "cell_type": "code",
   "execution_count": 29,
   "metadata": {},
   "outputs": [],
   "source": [
    "name = 'test'\n",
    "ra = 41.3649\n",
    "dec = -0.9144"
   ]
  },
  {
   "cell_type": "code",
   "execution_count": 51,
   "metadata": {},
   "outputs": [],
   "source": [
    "for band in ['R', 'I', 'G']:\n",
    "    #conn.get_cut(ra, dec, 200, band, filepath=os.path.join(DATA_FOLDER, f'{name}_{band.lower()}.fits'))\n",
    "    #unpack_file(os.path.join(DATA_FOLDER, f'{name}_{band.lower()}.fits.fz'))\n",
    "\n",
    "    make_psf(os.path.join(DATA_FOLDER, f'{name}_{band.lower()}.fits'), outfile=os.path.join(DATA_FOLDER, f'psf_{name}_{band.lower()}.fits'))"
   ]
  },
  {
   "cell_type": "code",
   "execution_count": 7,
   "metadata": {},
   "outputs": [
    {
     "name": "stdout",
     "output_type": "stream",
     "text": [
      "finished\n"
     ]
    }
   ],
   "source": [
    "df = conn.query(f\"\"\"\n",
    "\n",
    "SELECT r.id, r.ra, r.dec, r.r_petro, g.g_petro, i.i_petro \n",
    "\n",
    "from \"idr4_dual\".\"idr4_dual_r\" as r JOIN \n",
    "\"idr4_dual\".\"idr4_dual_g\" as g ON g.ID = r.ID JOIN\n",
    "\"idr4_dual\".\"idr4_dual_i\" as i ON i.ID = r.ID \n",
    "\n",
    "where 1 = CONTAINS( POINT('ICRS', r.ra, r.dec), \n",
    "CIRCLE('ICRS', {ra}, {dec}, 0.003))\n",
    "\n",
    "\"\"\")"
   ]
  },
  {
   "cell_type": "code",
   "execution_count": null,
   "metadata": {},
   "outputs": [],
   "source": []
  },
  {
   "cell_type": "code",
   "execution_count": 40,
   "metadata": {},
   "outputs": [],
   "source": [
    "import astropy\n",
    "from astropy.io import fits\n",
    "\n",
    "def unpack_file(filename, output=None, output_folder=None, delete_compressed = False):\n",
    "    import os\n",
    "    \"\"\"\n",
    "    Funpack (uncompress) .fz file\n",
    "    \"\"\"\n",
    "\n",
    "    if output_folder:\n",
    "        output = os.path.join(output_folder, filename.replace('.fz', ''))\n",
    "    elif not output:\n",
    "        output = filename.replace('.fz', '')\n",
    "        \n",
    "    if delete_compressed:\n",
    "        os.remove(filename)\n",
    "    \n",
    "    packed = fits.open(filename)\n",
    "    unpacked = astropy.io.fits.hdu.image.PrimaryHDU(data = packed[1].data, header = packed[1].header)\n",
    "    astropy.io.fits.hdu.hdulist.HDUList(hdus=[unpacked]).writeto(output, overwrite=True)"
   ]
  },
  {
   "cell_type": "code",
   "execution_count": 47,
   "metadata": {},
   "outputs": [],
   "source": [
    "import numpy as np\n",
    "from astropy.io import fits as pf\n",
    "\n",
    "def make_psf(filename, outfile=None, fwhm=None, beta=None, radius = 10):\n",
    "    \n",
    "    if not fwhm or beta:\n",
    "        psf_data = get_psf_data(filename)\n",
    "        fwhm = psf_data[0]\n",
    "        beta = psf_data[1]\n",
    "\n",
    "    fwhm = fwhm/0.5\n",
    "    #beta = beta/0.5 \n",
    "    alpha = fwhm / (2 * np.sqrt(np.power(2., 1/beta) - 1.))\n",
    "    r = np.linspace(-radius, radius, 2 * radius + 1)\n",
    "    X, Y = np.meshgrid(r, r)\n",
    "    R = np.sqrt(X**2 + Y**2)\n",
    "    I = (beta - 1.) / (np.pi * alpha**2) * \\\n",
    "        np.power(1. + np.power(R / alpha, 2), -beta)\n",
    "    \n",
    "    if outfile:\n",
    "        hdu = fits.PrimaryHDU(I)\n",
    "        hdulist = pf.HDUList([hdu])\n",
    "        hdulist.writeto(outfile, overwrite=True)\n",
    "\n",
    "    return I"
   ]
  },
  {
   "cell_type": "code",
   "execution_count": 12,
   "metadata": {},
   "outputs": [],
   "source": [
    "def get_psf_data(filename):\n",
    "    \"\"\"Returns x0,y0 from image header\"\"\"\n",
    "    hdulist = fits.open(filename)\n",
    "    hdu = hdulist[0]\n",
    "    \n",
    "    ret = [None, None]\n",
    "    for i in hdu.header:\n",
    "        if 'FWHMMEAN' in i:\n",
    "            ret[0] = hdu.header[i]\n",
    "        if 'FWHMBETA' in i:\n",
    "            ret[1] = hdu.header[i]\n",
    "            \n",
    "    hdulist.close()\n",
    "    return tuple(ret)"
   ]
  },
  {
   "cell_type": "code",
   "execution_count": 13,
   "metadata": {},
   "outputs": [],
   "source": [
    "def solve_feedme_template(template, search_replace):\n",
    "    \"\"\"\n",
    "    Replaces all patterns in template text, returning a (hopefully) sane GALFIT FEEDME text\n",
    "\n",
    "    Args:\n",
    "        template: template text\n",
    "        search_replace: [(search0, replace0), (search1, replace1), ...], i.e., search-replace pairs\n",
    "\n",
    "    Returns:\n",
    "        str: contents\n",
    "    \"\"\"\n",
    "\n",
    "    contents = template\n",
    "    for pattern, str_replace in search_replace:\n",
    "        contents = contents.replace(pattern, str(str_replace))\n",
    "\n",
    "    return contents"
   ]
  },
  {
   "cell_type": "code",
   "execution_count": 14,
   "metadata": {},
   "outputs": [],
   "source": [
    "def get_dims(filename):\n",
    "    \"\"\"Returns a tuple (width, height)\"\"\"\n",
    "    hdulist = fits.open(filename)\n",
    "    hdu = hdulist[0]\n",
    "    ret = (hdu.header[\"NAXIS1\"], hdu.header[\"NAXIS2\"])\n",
    "    hdulist.close()\n",
    "    return ret\n",
    "\n",
    "def get_exptime(filename):\n",
    "    \"\"\"Returns exposure-time from image header\"\"\"\n",
    "    hdulist = fits.open(filename)\n",
    "    hdu = hdulist[0]\n",
    "    ret = hdu.header[\"EXPTIME\"]\n",
    "    hdulist.close()\n",
    "    return ret"
   ]
  },
  {
   "cell_type": "code",
   "execution_count": null,
   "metadata": {},
   "outputs": [],
   "source": [
    "\n",
    "\n",
    "\n"
   ]
  },
  {
   "cell_type": "code",
   "execution_count": 16,
   "metadata": {},
   "outputs": [],
   "source": [
    "width, height = get_dims('G.fits')"
   ]
  },
  {
   "cell_type": "code",
   "execution_count": 17,
   "metadata": {},
   "outputs": [],
   "source": [
    "import numpy as np\n",
    "\n",
    "zpg = 25.11 - 2.5 * np.log10(\n",
    "    float(get_exptime(\"G.fits\")))\n",
    "zpr = 24.80 - 2.5 * np.log10(\n",
    "    float(get_exptime(\"R.fits\")))\n",
    "zpi = 24.36 - 2.5 * np.log10(\n",
    "    float(get_exptime(\"I.fits\")))\n",
    "\n",
    "\n",
    "x0g, y0g = get_dims(\"G.fits\")\n",
    "x0r, y0r = get_dims(\"R.fits\")\n",
    "x0i, y0i = get_dims(\"I.fits\")"
   ]
  },
  {
   "cell_type": "code",
   "execution_count": 52,
   "metadata": {},
   "outputs": [],
   "source": [
    "search_replace = [\n",
    "            (\"@@@@@@\", os.path.join(DATA_FOLDER, name)),\n",
    "            (\"WWWWWW\", str(width)),\n",
    "            (\"HHHHHH\", str(height)),\n",
    "            (\"ZPG\", str(float(zpg))),\n",
    "            (\"ZPR\", str(float(zpr))),\n",
    "            (\"ZPI\", str(float(zpi))),\n",
    "            (\"XGXGXG\", str(float(x0g))),\n",
    "            (\"XRXRXR\", str(float(x0r))),\n",
    "            (\"XIXIXI\", str(float(x0i))),\n",
    "            (\"YGYGYG\", str(float(y0g))),\n",
    "            (\"YRYRYR\", str(float(y0r))),\n",
    "            (\"YIYIYI\", str(float(y0i))),\n",
    "            #(\"BKGG\", str(float(row[\"skybg_g\"])/nmgyg)),\n",
    "            #(\"BKGR\", str(float(row[\"skybg_r\"])/nmgyr)),\n",
    "            #(\"BKGI\", str(float(row[\"skybg_i\"])/nmgyi)),\n",
    "            #(\"BKGU\", str(float(skybg_u))),\n",
    "            #(\"BKGG\", str(float(skybg_g))),\n",
    "            #(\"BKGR\", str(float(skybg_r))),\n",
    "            #(\"BKGI\", str(float(skybg_i))),\n",
    "            #(\"BKGZ\", str(float(skybg_z))),\n",
    "            (\"MMAGG\", df[0]['g_petro']),\n",
    "            (\"MMAGR\", df[0]['r_petro']),\n",
    "            (\"MMAGI\", df[0]['i_petro']),\n",
    "        ]"
   ]
  },
  {
   "cell_type": "code",
   "execution_count": 53,
   "metadata": {},
   "outputs": [],
   "source": [
    "template = open('galfit.feedme.template', 'r').read()"
   ]
  },
  {
   "cell_type": "code",
   "execution_count": 54,
   "metadata": {},
   "outputs": [],
   "source": [
    "n_template = solve_feedme_template(template, search_replace)"
   ]
  },
  {
   "cell_type": "code",
   "execution_count": 55,
   "metadata": {},
   "outputs": [],
   "source": [
    "f = open('galfit.feedme', 'w')\n",
    "f.write(n_template)\n",
    "f.close()"
   ]
  },
  {
   "cell_type": "code",
   "execution_count": 56,
   "metadata": {},
   "outputs": [
    {
     "data": {
      "text/plain": [
       "26880"
      ]
     },
     "execution_count": 56,
     "metadata": {},
     "output_type": "execute_result"
    }
   ],
   "source": [
    "os.system('./galfitm-1.4.4-osx galfit.feedme')"
   ]
  },
  {
   "cell_type": "code",
   "execution_count": null,
   "metadata": {},
   "outputs": [],
   "source": []
  }
 ],
 "metadata": {
  "kernelspec": {
   "display_name": "Python 3",
   "language": "python",
   "name": "python3"
  },
  "language_info": {
   "codemirror_mode": {
    "name": "ipython",
    "version": 3
   },
   "file_extension": ".py",
   "mimetype": "text/x-python",
   "name": "python",
   "nbconvert_exporter": "python",
   "pygments_lexer": "ipython3",
   "version": "3.9.12"
  },
  "vscode": {
   "interpreter": {
    "hash": "e333ff4aa18f9a0fa07511eb65a6239e0d8f0b6236173c323db3f36e6a940470"
   }
  }
 },
 "nbformat": 4,
 "nbformat_minor": 2
}
