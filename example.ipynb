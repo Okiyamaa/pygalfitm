{
 "cells": [
  {
   "attachments": {},
   "cell_type": "markdown",
   "metadata": {},
   "source": [
    "## pygalfitm python package\n",
    "\n",
    "The python package has a main class that is PyGalfitm that is a wrapper for the executable GALFITM\n",
    "\n",
    "```\n",
    "pygalfitm.PyGalfitm()\n",
    "```\n",
    "\n",
    "The PyGalfitm class takes only one parameter that is the executable (str, optional): that is the path to galfitm executable, **if left as default downloads the executable depending on the OS.** Defaults to os.path.join(pygalfitm.__path__[0], \"galfitm\")."
   ]
  },
  {
   "cell_type": "code",
   "execution_count": 31,
   "metadata": {},
   "outputs": [],
   "source": [
    "from pygalfitm import PyGalfitm\n",
    "\n",
    "pygal_obj = PyGalfitm()"
   ]
  },
  {
   "attachments": {},
   "cell_type": "markdown",
   "metadata": {},
   "source": [
    "### GALFITM feedme\n",
    "\n",
    "The feedme input file to GALFITM is separated here in two main parts. The base config that are items A - Z and all other components (sersic, psf...)\n",
    "\n",
    "\n",
    "\n",
    "#### BASE CONFIG\n",
    "\n",
    "The base config may be setted and viewed with the funcions below: "
   ]
  },
  {
   "cell_type": "code",
   "execution_count": 32,
   "metadata": {},
   "outputs": [
    {
     "name": "stdout",
     "output_type": "stream",
     "text": [
      "A) pygalfitm_tutorial               # Input data image (FITS file)\n",
      "A1) g,r,i,z,u                        # Nick names (band labels) \n",
      "A2) 4770, 6231, 7625                 # Effective wavelenghts\n",
      "B) g,r,i,z,u                        # Output data image block\n",
      "C)                                  # Sigma image name (made from data if blank or 'none')\n",
      "D)                                  # Input PSF image and (optional) diffusion kernel\n",
      "E) 1                                # PSF fine sampling factor relative to data \n",
      "F) none                             # Bad pixel mask (FITS image or ASCII coord list)\n",
      "G) none                             # File with parameter constraints (ASCII file) \n",
      "H) 1    200  1  200                 # Image region to fit (xmin xmax ymin ymax)\n",
      "I) 200  200                         # Size of the convolution box (x y)\n",
      "J) 0,0,0                            # Magnitude photometric zeropoint\n",
      "K) 0.55  0.55                       # Plate scale (dx dy)   [arcsec per pixel]\n",
      "O) regular                          # Display type (regular, curses, both)\n",
      "P) 0                                # Choose: 0=optimize, 1=model, 2=imgblock, 3=subcomps\n",
      "U) 0                                # \n"
     ]
    }
   ],
   "source": [
    "pygal_obj.set_base({ \n",
    "    \"A\": \"pygalfitm_tutorial\",\n",
    "    \"B\": \"g,r,i,z,u\",\n",
    "    \"A1\": \"g,r,i,z,u\"\n",
    "}) ## Set the base parameters in this way\n",
    "\n",
    "pygal_obj.print_base() ## Print the base parameters"
   ]
  },
  {
   "attachments": {},
   "cell_type": "markdown",
   "metadata": {},
   "source": [
    "#### COMPONENTS\n",
    "\n",
    "Numerous components exist (sky, sersic, expdisk, moffat, ferrer, psf, nuker, corser, devauc, edgedisk, gaussian, king), so in order to maintain organization when deciding which ones to utilize and include in the feedme, **we can manage the active list for processing** by selectively activating and deactivating components.\n"
   ]
  },
  {
   "cell_type": "code",
   "execution_count": 30,
   "metadata": {},
   "outputs": [
    {
     "name": "stdout",
     "output_type": "stream",
     "text": [
      "Added component as sersic2\n",
      "Components before clear:  ['sersic', 'sersic1', 'expdisk', 'sersic2']\n",
      "Added component as sersic1\n"
     ]
    }
   ],
   "source": [
    "##IGNORE\n",
    "pygal_obj.activate_components([\"sersic\"])\n",
    "\n",
    "## To **check what components are currently active**:\n",
    "print(\"Components before clear: \", pygal_obj.active_components)\n",
    "\n",
    "## To clean component list, first we run:\n",
    "pygal_obj.activate_components()\n",
    "\n",
    "## Then we can activate components:\n",
    "pygal_obj.activate_components([\"sersic\", \"sersic\", \"expdisk\"]) ## If you add two times the same component, the second will be added as {component}2..."
   ]
  },
  {
   "attachments": {},
   "cell_type": "markdown",
   "metadata": {},
   "source": [
    "#### Setting and printing components \n",
    "\n",
    "Components work a little bit different from the base. Each parameter in the components (1 - 10) have 3 columns.\n",
    "\n",
    "When setting a parameter you may pass a tuple with the values that you want to set for each of the columns. The first value in the tuple corresponds to the first column and so goes on. "
   ]
  },
  {
   "cell_type": "code",
   "execution_count": 37,
   "metadata": {},
   "outputs": [
    {
     "name": "stdout",
     "output_type": "stream",
     "text": [
      "1) 1                                   3     cheb       # Position x [pixel]\n",
      "2) 200.0,200.0,200.0                   1     band       # Position y [pixel]\n",
      "3) TEST                                3     band       # Integrated magnitude\n",
      "4) ftest                               4     band       # R_e (effective radius) [pix]\n",
      "5) 4                                   2     band       # Sersic index n (de Vaucouleurs n=4)\n",
      "9) 0,0,0                               1     band       # Axis ratio (b/a)\n",
      "10) 0,0,0                               1     band       # Position angle (PA) [deg: Up=0, Left=90]\n",
      "Z) 0                                                    # Skip this model in output image? (yes=1, no=0)\n"
     ]
    }
   ],
   "source": [
    "pygal_obj.set_component(\"sersic\", {\n",
    "    \"1\": ( \"1\", 3, \"cheb\" ), ## Setting all 3 values\n",
    "    \"3\": ( \"TEST\" ), ## Setting only the value of the first column\n",
    "    \"4\": ( \"ftest\", 4 ), ## Setting the value of the first and second columns\n",
    "})\n",
    "\n",
    "## Print it by component name (sersic, sersic1, psf...)\n",
    "pygal_obj.print_component(\"sersic\")"
   ]
  },
  {
   "attachments": {},
   "cell_type": "markdown",
   "metadata": {},
   "source": [
    "### Running\n",
    "\n",
    "To run the GALFITM we need first to be sure that all configs are correct and then write the feedme file.\n",
    "\n",
    "Than we may run. The run() function returns the log/output of the GALFITM run on the terminal. **You may print it to debug errors with the config.**\n",
    "\n",
    "**When running the .run() function for the first time, if the executable path is not set, the program will ask if you want to download the executable** (This will raise and error giving you the command that you need to run on your terminal to allow the downloaded file to act as an executable)"
   ]
  },
  {
   "cell_type": "code",
   "execution_count": 38,
   "metadata": {},
   "outputs": [],
   "source": [
    "pygal_obj.write_feedme(feedme_path=None) ## If left None, it will write to the default path ./galfit.feedme\n",
    "\n",
    "## Run galfitm\n",
    "log = pygal_obj.run()"
   ]
  },
  {
   "attachments": {},
   "cell_type": "markdown",
   "metadata": {},
   "source": [
    "## Plotting results\n",
    "\n",
    "There is a special function in the pygalfitm package. It reads the .band output and returns a PyGalfitm instance with all parameters from the output.band loaded into the base and components.\n",
    "\n",
    "With this is possible to run the gen_plot() function as shown below to generate a matplotlib plot with the model, residuals and input images as well as plotting infos from the components."
   ]
  },
  {
   "cell_type": "code",
   "execution_count": 39,
   "metadata": {},
   "outputs": [],
   "source": [
    "import matplotlib.pyplot as plt\n",
    "\n",
    "from pygalfitm.read import read_output_to_class"
   ]
  },
  {
   "cell_type": "code",
   "execution_count": null,
   "metadata": {},
   "outputs": [],
   "source": [
    "pygalfitClass = read_output_to_class(\"dev/outputs/testss.galfit.02.band\")\n",
    "pygalfitClass.gen_plot( \"sersic\", return_plot = False, plot_parameters=[3, 4, 5], colorbar=True )"
   ]
  }
 ],
 "metadata": {
  "kernelspec": {
   "display_name": "base",
   "language": "python",
   "name": "python3"
  },
  "language_info": {
   "codemirror_mode": {
    "name": "ipython",
    "version": 3
   },
   "file_extension": ".py",
   "mimetype": "text/x-python",
   "name": "python",
   "nbconvert_exporter": "python",
   "pygments_lexer": "ipython3",
   "version": "3.9.12"
  },
  "vscode": {
   "interpreter": {
    "hash": "e333ff4aa18f9a0fa07511eb65a6239e0d8f0b6236173c323db3f36e6a940470"
   }
  }
 },
 "nbformat": 4,
 "nbformat_minor": 2
}
